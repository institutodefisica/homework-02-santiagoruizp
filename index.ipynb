{
 "cells": [
  {
   "cell_type": "markdown",
   "metadata": {},
   "source": [
    "# Python for Data-Science\n",
    "\n",
    "If you have not yet clicked the \"launch binder\" button below, please do now  to open these notebooks in an executable environment:\n",
    "\n",
    "[![Binder](https://mybinder.org/badge.svg)](https://mybinder.org/v2/gh/restrepo/data-analysis/master)\n",
    "\n",
    "## Contents\n",
    "* [Basic `Python`](./Python.ipynb):\n",
    "Here we learn the type of variables in the Python python language programming.\n",
    "* [DataFrames in Pandas](./Pandas.ipynb): Pandas implementation of spreadsheets\n",
    "* [API example](./crossref.ipynb): Application to web pages with API\n",
    "* [Network example](./Network.ipynb).\n",
    "* [Full network example](./inspire.ipynb). \n",
    "\n",
    "## Introduction\n",
    "### Jupyter notebooks\n",
    "\n",
    "__General concept__: The interface that you are using or visualizing in this moment is a [jupyter notebook](https://jupyter.org). Installation instructions can be found there. Extra required software is listed in the [requirements.txt](requirements.txt).\n",
    "\n",
    "__Philosophy__: This kind interface is designed to implement the so called _literal programming_, where the code can be mixed with rich formatted text which can even include mathematical formulas, like $E=\\gamma mc^2$. This kind of mixed text-code documents are heavily used for several purposes like:\n",
    "* Reproducible research papers.\n",
    "* Self-contained textbooks.\n",
    "* Code explorations to create full program codes.\n",
    "* As a platform to share data-analysis and results with collaborators.\n",
    "* etc.\n",
    "\n",
    "__Design__: It is an interactive page which consist of something called executable cells. The lines that\n",
    "you are just reading  now are part of one ot the executable cell of this page, called _[Markdown](https://guides.github.com/features/mastering-markdown/) cell_.\n",
    "The executable cells are basically of two types. Both of them can be executed from the jupyter menu in the top of the page or with the key combination `<Shift>+<Enter>`:.\n",
    "* Markdown cell: which are rich text cells like this one. When activated works like a text editor. It is activated by double clicking in any part of the text. After that, you can return back to the reading mode by using the\n",
    "key combination `<Shift>+<Enter>` and the rich text written with the [Markdown syntax](https://guides.github.com/features/mastering-markdown/) will be fully displayed again.\n",
    "  * __Activity__: Please double click into this cell to enter the edit mode. Then write something (hopefully using [Markdown syntax](https://guides.github.com/features/mastering-markdown/) syntax) and hit `<Shift>+<Enter>` when done to return back here. \n",
    "* Input code cell, like the one below to the side of the \"`In [ ]:` \" text. There you can write code in `Python`. A new cell with the output is created after the execution. \n",
    "\n",
    "  * __Activity__: Please write some mathematical operation, like `2+2`, in the next cell and hit `<Shift>+<Enter>`.\n",
    "  \n",
    "  Agrego formula matematica\n",
    "$$ ax+by+c=0 $$"
   ]
  },
  {
   "cell_type": "code",
   "execution_count": null,
   "metadata": {
    "collapsed": true
   },
   "outputs": [],
   "source": []
  },
  {
   "cell_type": "markdown",
   "metadata": {},
   "source": [
    "Please follow with [Python.ipynb](./Python.ipynb)"
   ]
  }
 ],
 "metadata": {
  "kernelspec": {
   "display_name": "Python 3",
   "language": "python",
   "name": "python3"
  },
  "language_info": {
   "codemirror_mode": {
    "name": "ipython",
    "version": 3
   },
   "file_extension": ".py",
   "mimetype": "text/x-python",
   "name": "python",
   "nbconvert_exporter": "python",
   "pygments_lexer": "ipython3",
   "version": "3.4.2"
  }
 },
 "nbformat": 4,
 "nbformat_minor": 2
}
