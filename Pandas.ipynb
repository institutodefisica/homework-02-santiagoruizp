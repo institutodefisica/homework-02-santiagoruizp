{
 "cells": [
  {
   "cell_type": "markdown",
   "metadata": {},
   "source": [
    "# Pandas"
   ]
  },
  {
   "cell_type": "markdown",
   "metadata": {},
   "source": [
    "An flat _spreadsheet_ can be seen in terms of the types of variables of `Python` just as dictionary of lists, where each column of the spreadsheet is a pair key-list of the dictionary \n",
    "\n",
    "|   |  A   |  B   |\n",
    "|---|:----:|:----:|\n",
    "| 1 | even | odd  |\n",
    "| 2 |   0  | 1    |\n",
    "| 3 |   2  | 3    |\n",
    "| 4 |   4  | 5    |\n",
    "| 5 |   6  | 7    |\n",
    "| 6 |   8  | 9    |"
   ]
  },
  {
   "cell_type": "code",
   "execution_count": 1,
   "metadata": {
    "collapsed": true
   },
   "outputs": [],
   "source": [
    "numbers={\"even\": [0,2,4,6,8],   #  First  key-list\n",
    "         \"odd\" : [1,3,5,7,9] }  #  Second key-list"
   ]
  },
  {
   "cell_type": "markdown",
   "metadata": {},
   "source": [
    "### DataFrame\n",
    "`Pandas` converts this dictionary of lists, into a `DataFrame` which is just an spreadsheet but interpreted at the programming level. It can and can be managed without a graphical interface."
   ]
  },
  {
   "cell_type": "code",
   "execution_count": 2,
   "metadata": {},
   "outputs": [
    {
     "data": {
      "text/html": [
       "<div>\n",
       "<table border=\"1\" class=\"dataframe\">\n",
       "  <thead>\n",
       "    <tr style=\"text-align: right;\">\n",
       "      <th></th>\n",
       "      <th>even</th>\n",
       "      <th>odd</th>\n",
       "    </tr>\n",
       "  </thead>\n",
       "  <tbody>\n",
       "    <tr>\n",
       "      <th>0</th>\n",
       "      <td>0</td>\n",
       "      <td>1</td>\n",
       "    </tr>\n",
       "    <tr>\n",
       "      <th>1</th>\n",
       "      <td>2</td>\n",
       "      <td>3</td>\n",
       "    </tr>\n",
       "    <tr>\n",
       "      <th>2</th>\n",
       "      <td>4</td>\n",
       "      <td>5</td>\n",
       "    </tr>\n",
       "    <tr>\n",
       "      <th>3</th>\n",
       "      <td>6</td>\n",
       "      <td>7</td>\n",
       "    </tr>\n",
       "    <tr>\n",
       "      <th>4</th>\n",
       "      <td>8</td>\n",
       "      <td>9</td>\n",
       "    </tr>\n",
       "  </tbody>\n",
       "</table>\n",
       "</div>"
      ],
      "text/plain": [
       "   even  odd\n",
       "0     0    1\n",
       "1     2    3\n",
       "2     4    5\n",
       "3     6    7\n",
       "4     8    9"
      ]
     },
     "execution_count": 2,
     "metadata": {},
     "output_type": "execute_result"
    }
   ],
   "source": [
    "import pandas as pd\n",
    "pd.set_option('display.max_colwidth',200)\n",
    "df=pd.DataFrame(numbers)\n",
    "df"
   ]
  },
  {
   "cell_type": "markdown",
   "metadata": {},
   "source": [
    "It is equivalent to:"
   ]
  },
  {
   "cell_type": "code",
   "execution_count": 3,
   "metadata": {},
   "outputs": [
    {
     "data": {
      "text/html": [
       "<div>\n",
       "<table border=\"1\" class=\"dataframe\">\n",
       "  <thead>\n",
       "    <tr style=\"text-align: right;\">\n",
       "      <th></th>\n",
       "      <th>even</th>\n",
       "      <th>odd</th>\n",
       "    </tr>\n",
       "  </thead>\n",
       "  <tbody>\n",
       "    <tr>\n",
       "      <th>0</th>\n",
       "      <td>0</td>\n",
       "      <td>1</td>\n",
       "    </tr>\n",
       "    <tr>\n",
       "      <th>1</th>\n",
       "      <td>2</td>\n",
       "      <td>3</td>\n",
       "    </tr>\n",
       "    <tr>\n",
       "      <th>2</th>\n",
       "      <td>4</td>\n",
       "      <td>5</td>\n",
       "    </tr>\n",
       "    <tr>\n",
       "      <th>3</th>\n",
       "      <td>6</td>\n",
       "      <td>7</td>\n",
       "    </tr>\n",
       "    <tr>\n",
       "      <th>4</th>\n",
       "      <td>8</td>\n",
       "      <td>9</td>\n",
       "    </tr>\n",
       "  </tbody>\n",
       "</table>\n",
       "</div>"
      ],
      "text/plain": [
       "   even  odd\n",
       "0     0    1\n",
       "1     2    3\n",
       "2     4    5\n",
       "3     6    7\n",
       "4     8    9"
      ]
     },
     "execution_count": 3,
     "metadata": {},
     "output_type": "execute_result"
    }
   ],
   "source": [
    "pd.DataFrame.from_dict(numbers)"
   ]
  },
  {
   "cell_type": "markdown",
   "metadata": {},
   "source": [
    "See below for other possibilities of [creating Pandas DataFrames from lists and dictionaries](https://fisica.udea.edu.co:4443/user/restrepo/notebooks/prog/cursos/data-analysis/Pandas.ipynb#Intialization-from-lists-and-dictionaries)"
   ]
  },
  {
   "cell_type": "markdown",
   "metadata": {},
   "source": [
    "we can check the shape of the `DataFrame`"
   ]
  },
  {
   "cell_type": "code",
   "execution_count": 4,
   "metadata": {},
   "outputs": [
    {
     "data": {
      "text/plain": [
       "(5, 2)"
      ]
     },
     "execution_count": 4,
     "metadata": {},
     "output_type": "execute_result"
    }
   ],
   "source": [
    "df.shape"
   ]
  },
  {
   "cell_type": "markdown",
   "metadata": {},
   "source": [
    "##  Export DataFrame to other formats\n",
    "* To export to excel:"
   ]
  },
  {
   "cell_type": "code",
   "execution_count": 5,
   "metadata": {
    "collapsed": true
   },
   "outputs": [],
   "source": [
    "df.to_excel('example.xlsx')"
   ]
  },
  {
   "cell_type": "markdown",
   "metadata": {},
   "source": [
    "It is possible to export also to `csv`, `txt`, etc."
   ]
  },
  {
   "cell_type": "markdown",
   "metadata": {},
   "source": [
    "### Series"
   ]
  },
  {
   "cell_type": "markdown",
   "metadata": {},
   "source": [
    "Each column of the DataFrame is now an augmented dictionary called `Series`, with the indices as the keys of the `Series`"
   ]
  },
  {
   "cell_type": "code",
   "execution_count": 6,
   "metadata": {},
   "outputs": [
    {
     "data": {
      "text/plain": [
       "0    0\n",
       "1    2\n",
       "2    4\n",
       "3    6\n",
       "4    8\n",
       "Name: even, dtype: int64"
      ]
     },
     "execution_count": 6,
     "metadata": {},
     "output_type": "execute_result"
    }
   ],
   "source": [
    "df [\"even\"]"
   ]
  },
  {
   "cell_type": "code",
   "execution_count": 7,
   "metadata": {},
   "outputs": [
    {
     "data": {
      "text/plain": [
       "pandas.core.series.Series"
      ]
     },
     "execution_count": 7,
     "metadata": {},
     "output_type": "execute_result"
    }
   ],
   "source": [
    "type( df['even'] )"
   ]
  },
  {
   "cell_type": "code",
   "execution_count": 8,
   "metadata": {},
   "outputs": [
    {
     "data": {
      "text/plain": [
       "0    0\n",
       "1    2\n",
       "2    4\n",
       "3    6\n",
       "4    8\n",
       "Name: even, dtype: int64"
      ]
     },
     "execution_count": 8,
     "metadata": {},
     "output_type": "execute_result"
    }
   ],
   "source": [
    "df.even"
   ]
  },
  {
   "cell_type": "markdown",
   "metadata": {},
   "source": [
    "Note that the key name can be used also as an attribute.\n",
    "\n",
    "> The __power__ of Pandas rely in that their main data structures: `DataFrames` and `Series`, are enriched with many useful methods and attributes.\n",
    "\n",
    "### [Official definition of Pandas](http://pandas.pydata.org/pandas-docs/stable/)\n",
    "\n",
    "> Pandas is a Python package providing __fast__, __flexible__, and __expressive__ _data structures_ designed to make working with “relational” or “labeled” data both easy and intuitive. It aims to be the fundamental high-level building block for doing practical, real world data analysis in Python. Additionally, it _has the broader goal of becoming the most powerful and flexible open source data analysis / manipulation tool_ available in any language. It is already well on its way toward this goal.\n",
    "\n",
    "* \"relational\": the list of data is identified with some unique index (like a `SQL` table)\n",
    "* \"labeled\": the list is identified with a key, like the previous `odd` or `even` keys.\n",
    "\n",
    "\n",
    "\n",
    "### Recommend textbook\n",
    "A good and practice book about `Pandas` possibilities is:\n",
    "\n",
    "[__Python for Data Analysis__](https://drive.google.com/open?id=0BxoOXsn2EUNIWExXbVc4SDN0YTQ)<br/>\n",
    "Data Wrangling with Pandas, NumPy, and IPython<br/>\n",
    "_By William McKinney_"
   ]
  },
  {
   "cell_type": "markdown",
   "metadata": {
    "heading_collapsed": true
   },
   "source": [
    "## Standard way to load the module"
   ]
  },
  {
   "cell_type": "code",
   "execution_count": 9,
   "metadata": {
    "collapsed": true,
    "hidden": true
   },
   "outputs": [],
   "source": [
    "import pandas as pd"
   ]
  },
  {
   "cell_type": "markdown",
   "metadata": {},
   "source": [
    "## Data structures"
   ]
  },
  {
   "cell_type": "markdown",
   "metadata": {},
   "source": [
    "`Pandas` has two new data structures:\n",
    "* `Series` which are similar to dictionaries\n",
    "* `DataFrame` which are similar to dictionary lists."
   ]
  },
  {
   "cell_type": "markdown",
   "metadata": {},
   "source": [
    "### DataFrame\n",
    "A row in a two-dimensional `DataFrame` corresponds to `Series` with the same keys of the `DataFrame`, but with single values instead of a list "
   ]
  },
  {
   "cell_type": "code",
   "execution_count": 10,
   "metadata": {},
   "outputs": [
    {
     "data": {
      "text/html": [
       "<div>\n",
       "<table border=\"1\" class=\"dataframe\">\n",
       "  <thead>\n",
       "    <tr style=\"text-align: right;\">\n",
       "      <th></th>\n",
       "      <th>even</th>\n",
       "      <th>odd</th>\n",
       "    </tr>\n",
       "  </thead>\n",
       "  <tbody>\n",
       "    <tr>\n",
       "      <th>0</th>\n",
       "      <td>0</td>\n",
       "      <td>1</td>\n",
       "    </tr>\n",
       "  </tbody>\n",
       "</table>\n",
       "</div>"
      ],
      "text/plain": [
       "   even  odd\n",
       "0     0    1"
      ]
     },
     "execution_count": 10,
     "metadata": {},
     "output_type": "execute_result"
    }
   ],
   "source": [
    "df.loc[[0]]"
   ]
  },
  {
   "cell_type": "code",
   "execution_count": 11,
   "metadata": {},
   "outputs": [
    {
     "data": {
      "text/plain": [
       "array([[0, 1]])"
      ]
     },
     "execution_count": 11,
     "metadata": {},
     "output_type": "execute_result"
    }
   ],
   "source": [
    "df.loc[[0]].values"
   ]
  },
  {
   "cell_type": "code",
   "execution_count": 12,
   "metadata": {},
   "outputs": [
    {
     "name": "stdout",
     "output_type": "stream",
     "text": [
      "the row has\n",
      "                  keys: ['even', 'odd'] and values: [0 1]\n",
      "like the dictionay:\n",
      "                      { 'even' : 0, 'odd' : 1 }\n"
     ]
    }
   ],
   "source": [
    "print( 'the row has' )\n",
    "print( '                  keys: {} and values: {}'.format( list( df.loc[[0]].keys() ),df.loc[[0]].values[0]  ) )\n",
    "print( \"like the dictionay:\" )\n",
    "print( \"                      { 'even' : 0, 'odd' : 1 }\")"
   ]
  },
  {
   "cell_type": "markdown",
   "metadata": {},
   "source": [
    "while the columns are dictionary with the indeces as the keys. \n",
    "\n",
    "An example of a  `DataFrame` is a spreadsheet."
   ]
  },
  {
   "cell_type": "code",
   "execution_count": 13,
   "metadata": {},
   "outputs": [
    {
     "data": {
      "text/html": [
       "<div>\n",
       "<table border=\"1\" class=\"dataframe\">\n",
       "  <thead>\n",
       "    <tr style=\"text-align: right;\">\n",
       "      <th></th>\n",
       "      <th>even</th>\n",
       "    </tr>\n",
       "  </thead>\n",
       "  <tbody>\n",
       "    <tr>\n",
       "      <th>0</th>\n",
       "      <td>0</td>\n",
       "    </tr>\n",
       "    <tr>\n",
       "      <th>1</th>\n",
       "      <td>2</td>\n",
       "    </tr>\n",
       "    <tr>\n",
       "      <th>2</th>\n",
       "      <td>4</td>\n",
       "    </tr>\n",
       "    <tr>\n",
       "      <th>3</th>\n",
       "      <td>6</td>\n",
       "    </tr>\n",
       "    <tr>\n",
       "      <th>4</th>\n",
       "      <td>8</td>\n",
       "    </tr>\n",
       "  </tbody>\n",
       "</table>\n",
       "</div>"
      ],
      "text/plain": [
       "   even\n",
       "0     0\n",
       "1     2\n",
       "2     4\n",
       "3     6\n",
       "4     8"
      ]
     },
     "execution_count": 13,
     "metadata": {},
     "output_type": "execute_result"
    }
   ],
   "source": [
    "df[['even']]"
   ]
  },
  {
   "cell_type": "code",
   "execution_count": 14,
   "metadata": {},
   "outputs": [
    {
     "name": "stdout",
     "output_type": "stream",
     "text": [
      "the column even has\n",
      "                  keys: [0, 1, 2, 3, 4] and values: [0 2 4 6 8]\n",
      "like the dictionay:\n",
      "                      { 0 : 0, 1 : 2, 2 : 4, 3 : 6, 4 : 8 }\n"
     ]
    }
   ],
   "source": [
    "print( 'the column even has' )\n",
    "print( '                  keys: {} and values: {}'.format( list( df.even.keys() ),df.even.values  ) )\n",
    "print( \"like the dictionay:\" )\n",
    "print( \"                      { 0 : 0, 1 : 2, 2 : 4, 3 : 6, 4 : 8 }\")"
   ]
  },
  {
   "cell_type": "markdown",
   "metadata": {},
   "source": [
    "### `Series`"
   ]
  },
  {
   "cell_type": "markdown",
   "metadata": {},
   "source": [
    "A `Pandas` `Series` object can be just initialized from a `Python` dictionary:"
   ]
  },
  {
   "cell_type": "code",
   "execution_count": 15,
   "metadata": {},
   "outputs": [
    {
     "data": {
      "text/plain": [
       "Age                     23\n",
       "Nacionality       Colombia\n",
       "Name           Juan Valdez\n",
       "dtype: object"
      ]
     },
     "execution_count": 15,
     "metadata": {},
     "output_type": "execute_result"
    }
   ],
   "source": [
    "s=pd.Series({'Name':'Juan Valdez','Nacionality':'Colombia','Age':23})\n",
    "s"
   ]
  },
  {
   "cell_type": "markdown",
   "metadata": {},
   "source": [
    "and can be used as such dictionaries"
   ]
  },
  {
   "cell_type": "code",
   "execution_count": 16,
   "metadata": {},
   "outputs": [
    {
     "data": {
      "text/plain": [
       "'Juan Valdez'"
      ]
     },
     "execution_count": 16,
     "metadata": {},
     "output_type": "execute_result"
    }
   ],
   "source": [
    "s['Name']"
   ]
  },
  {
   "cell_type": "markdown",
   "metadata": {},
   "source": [
    "but also as containers of name spaces!"
   ]
  },
  {
   "cell_type": "code",
   "execution_count": 17,
   "metadata": {},
   "outputs": [
    {
     "data": {
      "text/plain": [
       "'Juan Valdez'"
      ]
     },
     "execution_count": 17,
     "metadata": {},
     "output_type": "execute_result"
    }
   ],
   "source": [
    "s.Name"
   ]
  },
  {
   "cell_type": "markdown",
   "metadata": {},
   "source": [
    "## `DataFrame` Initialization"
   ]
  },
  {
   "cell_type": "markdown",
   "metadata": {},
   "source": [
    "### Initization from an existing spreadsheet. \n",
    "This can be locally in your computer o from some downloadable  link"
   ]
  },
  {
   "cell_type": "code",
   "execution_count": 18,
   "metadata": {},
   "outputs": [
    {
     "data": {
      "text/html": [
       "<div>\n",
       "<table border=\"1\" class=\"dataframe\">\n",
       "  <thead>\n",
       "    <tr style=\"text-align: right;\">\n",
       "      <th></th>\n",
       "      <th>Nombre</th>\n",
       "      <th>Edad</th>\n",
       "      <th>Compañia</th>\n",
       "    </tr>\n",
       "  </thead>\n",
       "  <tbody>\n",
       "    <tr>\n",
       "      <th>0</th>\n",
       "      <td>Juan Valdez</td>\n",
       "      <td>23</td>\n",
       "      <td>Café de Colombia</td>\n",
       "    </tr>\n",
       "    <tr>\n",
       "      <th>1</th>\n",
       "      <td>Álvaro Uribe Vélez</td>\n",
       "      <td>65</td>\n",
       "      <td>Senado de la República</td>\n",
       "    </tr>\n",
       "  </tbody>\n",
       "</table>\n",
       "</div>"
      ],
      "text/plain": [
       "               Nombre  Edad                Compañia\n",
       "0         Juan Valdez    23        Café de Colombia\n",
       "1  Álvaro Uribe Vélez    65  Senado de la República"
      ]
     },
     "execution_count": 18,
     "metadata": {},
     "output_type": "execute_result"
    }
   ],
   "source": [
    "df=pd.read_excel('http://bit.ly/spreadsheet_xlsx')\n",
    "df"
   ]
  },
  {
   "cell_type": "markdown",
   "metadata": {},
   "source": [
    "To make a downloadable link for any spread sheet in Google Drive, follow the sequence:\n",
    "```\n",
    "File → Publish to the web...→ Entire Document → Web page → Microsoft excel (xlsx)\n",
    "```\n",
    "as illustrated in the figure:\n",
    "![GS](./img/img1.png)"
   ]
  },
  {
   "cell_type": "markdown",
   "metadata": {},
   "source": [
    "After some modification"
   ]
  },
  {
   "cell_type": "code",
   "execution_count": 19,
   "metadata": {},
   "outputs": [
    {
     "data": {
      "text/html": [
       "<div>\n",
       "<table border=\"1\" class=\"dataframe\">\n",
       "  <thead>\n",
       "    <tr style=\"text-align: right;\">\n",
       "      <th></th>\n",
       "      <th>Nombre</th>\n",
       "      <th>Edad</th>\n",
       "      <th>Compañia</th>\n",
       "    </tr>\n",
       "  </thead>\n",
       "  <tbody>\n",
       "    <tr>\n",
       "      <th>0</th>\n",
       "      <td>Juan Valdez</td>\n",
       "      <td>32</td>\n",
       "      <td>Café de Colombia</td>\n",
       "    </tr>\n",
       "    <tr>\n",
       "      <th>1</th>\n",
       "      <td>Álvaro Uribe Vélez</td>\n",
       "      <td>65</td>\n",
       "      <td>Senado de la República</td>\n",
       "    </tr>\n",
       "  </tbody>\n",
       "</table>\n",
       "</div>"
      ],
      "text/plain": [
       "               Nombre  Edad                Compañia\n",
       "0         Juan Valdez    32        Café de Colombia\n",
       "1  Álvaro Uribe Vélez    65  Senado de la República"
      ]
     },
     "execution_count": 19,
     "metadata": {},
     "output_type": "execute_result"
    }
   ],
   "source": [
    "df.loc[0,'Edad']=32\n",
    "df"
   ]
  },
  {
   "cell_type": "markdown",
   "metadata": {},
   "source": [
    "it can be saved again as an `excel file` with the option to not create a column of indices: `index=False`"
   ]
  },
  {
   "cell_type": "code",
   "execution_count": 20,
   "metadata": {
    "collapsed": true
   },
   "outputs": [],
   "source": [
    "df.to_excel('personajes.xlsx',index=False)"
   ]
  },
  {
   "cell_type": "markdown",
   "metadata": {},
   "source": [
    "__Activity__: Adter the previous execution, load the file `personajes.xlsx`"
   ]
  },
  {
   "cell_type": "code",
   "execution_count": 21,
   "metadata": {},
   "outputs": [
    {
     "data": {
      "text/html": [
       "<div>\n",
       "<table border=\"1\" class=\"dataframe\">\n",
       "  <thead>\n",
       "    <tr style=\"text-align: right;\">\n",
       "      <th></th>\n",
       "      <th>Nombre</th>\n",
       "      <th>Edad</th>\n",
       "      <th>Compañia</th>\n",
       "    </tr>\n",
       "  </thead>\n",
       "  <tbody>\n",
       "    <tr>\n",
       "      <th>0</th>\n",
       "      <td>Juan Valdez</td>\n",
       "      <td>32</td>\n",
       "      <td>Café de Colombia</td>\n",
       "    </tr>\n",
       "    <tr>\n",
       "      <th>1</th>\n",
       "      <td>Álvaro Uribe Vélez</td>\n",
       "      <td>65</td>\n",
       "      <td>Ex-senador</td>\n",
       "    </tr>\n",
       "  </tbody>\n",
       "</table>\n",
       "</div>"
      ],
      "text/plain": [
       "               Nombre  Edad          Compañia\n",
       "0         Juan Valdez    32  Café de Colombia\n",
       "1  Álvaro Uribe Vélez    65        Ex-senador"
      ]
     },
     "execution_count": 21,
     "metadata": {},
     "output_type": "execute_result"
    }
   ],
   "source": [
    "dg=pd.read_excel(\"personajes.xlsx\")\n",
    "\n",
    "dg.loc[1,'Compañia']=\"Ex-senador\"\n",
    "dg.to_excel('personajes1.xlsx',index=False)\n",
    "dg"
   ]
  },
  {
   "cell_type": "markdown",
   "metadata": {},
   "source": [
    "## Intialization from lists and dictionaries"
   ]
  },
  {
   "cell_type": "markdown",
   "metadata": {},
   "source": [
    "Creating Pandas DataFrame from list and dictionaries [offers many alternatives](http://pbpython.com/pandas-list-dict.html)\n",
    "\n",
    "![creating dataframes](http://pbpython.com/images/pandas-dataframe-shadow.png)\n",
    "\n",
    "### Row oriented way\n",
    "* In addition to the dictionary of lists [already illustrated at the beginning]() that in this case corresponds to:"
   ]
  },
  {
   "cell_type": "code",
   "execution_count": 22,
   "metadata": {},
   "outputs": [
    {
     "data": {
      "text/html": [
       "<div>\n",
       "<table border=\"1\" class=\"dataframe\">\n",
       "  <thead>\n",
       "    <tr style=\"text-align: right;\">\n",
       "      <th></th>\n",
       "      <th>Compañia</th>\n",
       "      <th>Edad</th>\n",
       "      <th>Nombre</th>\n",
       "    </tr>\n",
       "  </thead>\n",
       "  <tbody>\n",
       "    <tr>\n",
       "      <th>0</th>\n",
       "      <td>Café de Colombia</td>\n",
       "      <td>32</td>\n",
       "      <td>Juan Valdez</td>\n",
       "    </tr>\n",
       "    <tr>\n",
       "      <th>1</th>\n",
       "      <td>Senado de la República</td>\n",
       "      <td>65</td>\n",
       "      <td>Álvaro Uribe Vélez</td>\n",
       "    </tr>\n",
       "  </tbody>\n",
       "</table>\n",
       "</div>"
      ],
      "text/plain": [
       "                 Compañia  Edad              Nombre\n",
       "0        Café de Colombia    32         Juan Valdez\n",
       "1  Senado de la República    65  Álvaro Uribe Vélez"
      ]
     },
     "execution_count": 22,
     "metadata": {},
     "output_type": "execute_result"
    }
   ],
   "source": [
    "pd.DataFrame({'Nombre'   : ['Juan Valdez','Álvaro Uribe Vélez'],\n",
    "              'Edad'     : [32,            65                 ],\n",
    "              'Compañia' : ['Café de Colombia','Senado de la República']})"
   ]
  },
  {
   "cell_type": "markdown",
   "metadata": {},
   "source": [
    "* We can obtain the DataFrame from list of items"
   ]
  },
  {
   "cell_type": "code",
   "execution_count": 23,
   "metadata": {},
   "outputs": [
    {
     "data": {
      "text/html": [
       "<div>\n",
       "<table border=\"1\" class=\"dataframe\">\n",
       "  <thead>\n",
       "    <tr style=\"text-align: right;\">\n",
       "      <th></th>\n",
       "      <th>Nombre</th>\n",
       "      <th>Edad</th>\n",
       "      <th>Compañia</th>\n",
       "    </tr>\n",
       "  </thead>\n",
       "  <tbody>\n",
       "    <tr>\n",
       "      <th>0</th>\n",
       "      <td>Juan Valdez</td>\n",
       "      <td>32</td>\n",
       "      <td>Café de Colombia</td>\n",
       "    </tr>\n",
       "    <tr>\n",
       "      <th>1</th>\n",
       "      <td>Álvaro Uribe Vélez</td>\n",
       "      <td>65</td>\n",
       "      <td>Senado de la República</td>\n",
       "    </tr>\n",
       "  </tbody>\n",
       "</table>\n",
       "</div>"
      ],
      "text/plain": [
       "               Nombre  Edad                Compañia\n",
       "0         Juan Valdez    32        Café de Colombia\n",
       "1  Álvaro Uribe Vélez    65  Senado de la República"
      ]
     },
     "execution_count": 23,
     "metadata": {},
     "output_type": "execute_result"
    }
   ],
   "source": [
    "pd.DataFrame.from_items([ [ 'Nombre'  , ['Juan Valdez','Álvaro Uribe Vélez']],\n",
    "                          [ 'Edad'    , [  32,            65               ]],\n",
    "                          [ 'Compañia', ['Café de Colombia','Senado de la República']] ])"
   ]
  },
  {
   "cell_type": "markdown",
   "metadata": {},
   "source": [
    "* We can obtain the DataFrama from dictionary"
   ]
  },
  {
   "cell_type": "code",
   "execution_count": 24,
   "metadata": {},
   "outputs": [
    {
     "data": {
      "text/html": [
       "<div>\n",
       "<table border=\"1\" class=\"dataframe\">\n",
       "  <thead>\n",
       "    <tr style=\"text-align: right;\">\n",
       "      <th></th>\n",
       "      <th>Compañia</th>\n",
       "      <th>Edad</th>\n",
       "      <th>Nombre</th>\n",
       "    </tr>\n",
       "  </thead>\n",
       "  <tbody>\n",
       "    <tr>\n",
       "      <th>Nombre</th>\n",
       "      <td>Café de Colombia</td>\n",
       "      <td>32</td>\n",
       "      <td>Juan Valdez</td>\n",
       "    </tr>\n",
       "    <tr>\n",
       "      <th>Edad</th>\n",
       "      <td>Café de Colombia</td>\n",
       "      <td>32</td>\n",
       "      <td>Juan Valdez</td>\n",
       "    </tr>\n",
       "    <tr>\n",
       "      <th>Compañia</th>\n",
       "      <td>Café de Colombia</td>\n",
       "      <td>32</td>\n",
       "      <td>Juan Valdez</td>\n",
       "    </tr>\n",
       "  </tbody>\n",
       "</table>\n",
       "</div>"
      ],
      "text/plain": [
       "                  Compañia  Edad       Nombre\n",
       "Nombre    Café de Colombia    32  Juan Valdez\n",
       "Edad      Café de Colombia    32  Juan Valdez\n",
       "Compañia  Café de Colombia    32  Juan Valdez"
      ]
     },
     "execution_count": 24,
     "metadata": {},
     "output_type": "execute_result"
    }
   ],
   "source": [
    "pd.DataFrame( {'Nombre':'Juan Valdez',        'Edad': 32   ,'Compañia':'Café de Colombia'      },\n",
    "              {'Nombre':'Álvaro Uribe Vélez', 'Edad': 65   ,'Compañia':'Senado de la República'}\n",
    "            )"
   ]
  },
  {
   "cell_type": "markdown",
   "metadata": {},
   "source": [
    "* We can obtain the DataFrama from matrix with the columns specified in an extra list"
   ]
  },
  {
   "cell_type": "code",
   "execution_count": 25,
   "metadata": {},
   "outputs": [
    {
     "data": {
      "text/html": [
       "<div>\n",
       "<table border=\"1\" class=\"dataframe\">\n",
       "  <thead>\n",
       "    <tr style=\"text-align: right;\">\n",
       "      <th></th>\n",
       "      <th>Nombre</th>\n",
       "      <th>Edad</th>\n",
       "      <th>Compañia</th>\n",
       "    </tr>\n",
       "  </thead>\n",
       "  <tbody>\n",
       "    <tr>\n",
       "      <th>0</th>\n",
       "      <td>Juan Valdez</td>\n",
       "      <td>32</td>\n",
       "      <td>Café de Colombia</td>\n",
       "    </tr>\n",
       "    <tr>\n",
       "      <th>1</th>\n",
       "      <td>Álvaro Uribe Vélez</td>\n",
       "      <td>65</td>\n",
       "      <td>Senado de la República</td>\n",
       "    </tr>\n",
       "  </tbody>\n",
       "</table>\n",
       "</div>"
      ],
      "text/plain": [
       "               Nombre  Edad                Compañia\n",
       "0         Juan Valdez    32        Café de Colombia\n",
       "1  Álvaro Uribe Vélez    65  Senado de la República"
      ]
     },
     "execution_count": 25,
     "metadata": {},
     "output_type": "execute_result"
    }
   ],
   "source": [
    "pd.DataFrame( [['Juan Valdez',         32   , 'Café de Colombia'      ],\n",
    "               ['Álvaro Uribe Vélez',  65   , 'Senado de la República']],columns= \n",
    "               [ 'Nombre'          , 'Edad',   'Compañia'             ]\n",
    "            )"
   ]
  },
  {
   "cell_type": "markdown",
   "metadata": {},
   "source": [
    "### Row oriented way\n",
    "* From a dictionary with the column names as keys and a single value for each one. Each dictionary corresponds to a row of the DataFrame"
   ]
  },
  {
   "cell_type": "markdown",
   "metadata": {},
   "source": [
    "### Initialization from sequential rows as  Series\n",
    "We start with an empty `DataFrame`:"
   ]
  },
  {
   "cell_type": "code",
   "execution_count": 26,
   "metadata": {},
   "outputs": [
    {
     "data": {
      "text/html": [
       "<div>\n",
       "<table border=\"1\" class=\"dataframe\">\n",
       "  <thead>\n",
       "    <tr style=\"text-align: right;\">\n",
       "      <th></th>\n",
       "    </tr>\n",
       "  </thead>\n",
       "  <tbody>\n",
       "  </tbody>\n",
       "</table>\n",
       "</div>"
      ],
      "text/plain": [
       "Empty DataFrame\n",
       "Columns: []\n",
       "Index: []"
      ]
     },
     "execution_count": 26,
     "metadata": {},
     "output_type": "execute_result"
    }
   ],
   "source": [
    "df=pd.DataFrame()\n",
    "df"
   ]
  },
  {
   "cell_type": "markdown",
   "metadata": {},
   "source": [
    "We can append a `Series` as a row of the `DataFrame`, provided that we always use the option: `ignore_index=True`"
   ]
  },
  {
   "cell_type": "code",
   "execution_count": 27,
   "metadata": {},
   "outputs": [
    {
     "data": {
      "text/html": [
       "<div>\n",
       "<table border=\"1\" class=\"dataframe\">\n",
       "  <thead>\n",
       "    <tr style=\"text-align: right;\">\n",
       "      <th></th>\n",
       "      <th>Age</th>\n",
       "      <th>Nacionality</th>\n",
       "      <th>Name</th>\n",
       "    </tr>\n",
       "  </thead>\n",
       "  <tbody>\n",
       "    <tr>\n",
       "      <th>0</th>\n",
       "      <td>23.0</td>\n",
       "      <td>Colombia</td>\n",
       "      <td>Juan Valdez</td>\n",
       "    </tr>\n",
       "  </tbody>\n",
       "</table>\n",
       "</div>"
      ],
      "text/plain": [
       "    Age Nacionality         Name\n",
       "0  23.0    Colombia  Juan Valdez"
      ]
     },
     "execution_count": 27,
     "metadata": {},
     "output_type": "execute_result"
    }
   ],
   "source": [
    "df=df.append(s,ignore_index=True)\n",
    "df"
   ]
  },
  {
   "cell_type": "markdown",
   "metadata": {},
   "source": [
    "We can fix the type of data of the `'Age'` column"
   ]
  },
  {
   "cell_type": "code",
   "execution_count": 28,
   "metadata": {},
   "outputs": [
    {
     "data": {
      "text/plain": [
       "pandas.core.series.Series"
      ]
     },
     "execution_count": 28,
     "metadata": {},
     "output_type": "execute_result"
    }
   ],
   "source": [
    "type(df.Age)"
   ]
  },
  {
   "cell_type": "code",
   "execution_count": 29,
   "metadata": {},
   "outputs": [
    {
     "data": {
      "text/html": [
       "<div>\n",
       "<table border=\"1\" class=\"dataframe\">\n",
       "  <thead>\n",
       "    <tr style=\"text-align: right;\">\n",
       "      <th></th>\n",
       "      <th>Age</th>\n",
       "      <th>Nacionality</th>\n",
       "      <th>Name</th>\n",
       "    </tr>\n",
       "  </thead>\n",
       "  <tbody>\n",
       "    <tr>\n",
       "      <th>0</th>\n",
       "      <td>23</td>\n",
       "      <td>Colombia</td>\n",
       "      <td>Juan Valdez</td>\n",
       "    </tr>\n",
       "  </tbody>\n",
       "</table>\n",
       "</div>"
      ],
      "text/plain": [
       "   Age Nacionality         Name\n",
       "0   23    Colombia  Juan Valdez"
      ]
     },
     "execution_count": 29,
     "metadata": {},
     "output_type": "execute_result"
    }
   ],
   "source": [
    "df['Age']=df.Age.astype(int)\n",
    "df"
   ]
  },
  {
   "cell_type": "markdown",
   "metadata": {},
   "source": [
    "To add a second row we can build another `Series`\n",
    "__Activity__: Fill the fields to be generated after the execution of the next cell, and make the __Exercises__"
   ]
  },
  {
   "cell_type": "code",
   "execution_count": 30,
   "metadata": {},
   "outputs": [
    {
     "name": "stdout",
     "output_type": "stream",
     "text": [
      "Name:\n",
      "Santiago Ruiz\n",
      "Nacionality:\n",
      "Colombia\n",
      "Age:\n",
      "19\n",
      "Company:\n",
      "Universidad de Antioquia\n"
     ]
    }
   ],
   "source": [
    "s=pd.Series()\n",
    "for k in ['Name','Nacionality','Age','Company']:\n",
    "    var=input('{}:\\n'.format(k))\n",
    "    s[k]=var"
   ]
  },
  {
   "cell_type": "markdown",
   "metadata": {},
   "source": [
    "#### Exercises\n",
    "* Display the resulting `Series` in the screen:"
   ]
  },
  {
   "cell_type": "code",
   "execution_count": 31,
   "metadata": {},
   "outputs": [
    {
     "data": {
      "text/plain": [
       "Name                      Santiago Ruiz\n",
       "Nacionality                    Colombia\n",
       "Age                                  19\n",
       "Company        Universidad de Antioquia\n",
       "dtype: object"
      ]
     },
     "execution_count": 31,
     "metadata": {},
     "output_type": "execute_result"
    }
   ],
   "source": [
    "s"
   ]
  },
  {
   "cell_type": "markdown",
   "metadata": {},
   "source": [
    "* Append to the previous `DataFrame` y visualizarlo:"
   ]
  },
  {
   "cell_type": "code",
   "execution_count": 32,
   "metadata": {},
   "outputs": [
    {
     "data": {
      "text/html": [
       "<div>\n",
       "<table border=\"1\" class=\"dataframe\">\n",
       "  <thead>\n",
       "    <tr style=\"text-align: right;\">\n",
       "      <th></th>\n",
       "      <th>Age</th>\n",
       "      <th>Nacionality</th>\n",
       "      <th>Name</th>\n",
       "      <th>Company</th>\n",
       "    </tr>\n",
       "  </thead>\n",
       "  <tbody>\n",
       "    <tr>\n",
       "      <th>0</th>\n",
       "      <td>23</td>\n",
       "      <td>Colombia</td>\n",
       "      <td>Juan Valdez</td>\n",
       "      <td>NaN</td>\n",
       "    </tr>\n",
       "    <tr>\n",
       "      <th>1</th>\n",
       "      <td>19</td>\n",
       "      <td>Colombia</td>\n",
       "      <td>Santiago Ruiz</td>\n",
       "      <td>Universidad de Antioquia</td>\n",
       "    </tr>\n",
       "  </tbody>\n",
       "</table>\n",
       "</div>"
      ],
      "text/plain": [
       "  Age Nacionality           Name                   Company\n",
       "0  23    Colombia    Juan Valdez                       NaN\n",
       "1  19    Colombia  Santiago Ruiz  Universidad de Antioquia"
      ]
     },
     "execution_count": 32,
     "metadata": {},
     "output_type": "execute_result"
    }
   ],
   "source": [
    "df=df.append(s,ignore_index=True)\n",
    "df"
   ]
  },
  {
   "cell_type": "markdown",
   "metadata": {},
   "source": [
    "* Fill NaN with empty strings"
   ]
  },
  {
   "cell_type": "code",
   "execution_count": 48,
   "metadata": {},
   "outputs": [
    {
     "data": {
      "text/html": [
       "<div>\n",
       "<table border=\"1\" class=\"dataframe\">\n",
       "  <thead>\n",
       "    <tr style=\"text-align: right;\">\n",
       "      <th></th>\n",
       "      <th>Age</th>\n",
       "      <th>Nacionality</th>\n",
       "      <th>Name</th>\n",
       "      <th>Company</th>\n",
       "    </tr>\n",
       "  </thead>\n",
       "  <tbody>\n",
       "    <tr>\n",
       "      <th>0</th>\n",
       "      <td>23</td>\n",
       "      <td>Colombia</td>\n",
       "      <td>Juan Valdez</td>\n",
       "      <td>Cafe Colombia</td>\n",
       "    </tr>\n",
       "    <tr>\n",
       "      <th>1</th>\n",
       "      <td>19</td>\n",
       "      <td>Colombia</td>\n",
       "      <td>Santiago Ruiz</td>\n",
       "      <td>Universidad de Antioquia</td>\n",
       "    </tr>\n",
       "  </tbody>\n",
       "</table>\n",
       "</div>"
      ],
      "text/plain": [
       "   Age Nacionality           Name                   Company\n",
       "0   23    Colombia    Juan Valdez             Cafe Colombia\n",
       "1   19    Colombia  Santiago Ruiz  Universidad de Antioquia"
      ]
     },
     "execution_count": 48,
     "metadata": {},
     "output_type": "execute_result"
    }
   ],
   "source": [
    "df=df.fillna(\"Cafe Colombia\")\n",
    "df"
   ]
  },
  {
   "cell_type": "markdown",
   "metadata": {},
   "source": [
    "* Save `Pandas` `DataFrame` as an Excel file"
   ]
  },
  {
   "cell_type": "code",
   "execution_count": 49,
   "metadata": {
    "collapsed": true
   },
   "outputs": [],
   "source": [
    "df.to_excel('personasyyo.xlsx',index=False)"
   ]
  },
  {
   "cell_type": "markdown",
   "metadata": {},
   "source": [
    "* Load pandas DataFrame from the saved file in Excel"
   ]
  },
  {
   "cell_type": "code",
   "execution_count": 50,
   "metadata": {},
   "outputs": [
    {
     "data": {
      "text/html": [
       "<div>\n",
       "<table border=\"1\" class=\"dataframe\">\n",
       "  <thead>\n",
       "    <tr style=\"text-align: right;\">\n",
       "      <th></th>\n",
       "      <th>Age</th>\n",
       "      <th>Nacionality</th>\n",
       "      <th>Name</th>\n",
       "      <th>Company</th>\n",
       "    </tr>\n",
       "  </thead>\n",
       "  <tbody>\n",
       "    <tr>\n",
       "      <th>0</th>\n",
       "      <td>23</td>\n",
       "      <td>Colombia</td>\n",
       "      <td>Juan Valdez</td>\n",
       "      <td>Cafe Colombia</td>\n",
       "    </tr>\n",
       "    <tr>\n",
       "      <th>1</th>\n",
       "      <td>19</td>\n",
       "      <td>Colombia</td>\n",
       "      <td>Santiago Ruiz</td>\n",
       "      <td>Universidad de Antioquia</td>\n",
       "    </tr>\n",
       "  </tbody>\n",
       "</table>\n",
       "</div>"
      ],
      "text/plain": [
       "   Age Nacionality           Name                   Company\n",
       "0   23    Colombia    Juan Valdez             Cafe Colombia\n",
       "1   19    Colombia  Santiago Ruiz  Universidad de Antioquia"
      ]
     },
     "execution_count": 50,
     "metadata": {},
     "output_type": "execute_result"
    }
   ],
   "source": [
    "df=pd.read_excel(\"personasyyo.xlsx\")\n",
    "df"
   ]
  },
  {
   "cell_type": "markdown",
   "metadata": {},
   "source": [
    "## Beyond excel\n",
    "The paradigm of dictionary of list is not well suited for excel. A list inside a dictionary is seen by excel as a string. \n",
    "\n",
    "It is however the core of the design of the `JSON` format, which preserver the types of variables inside the dictionaries!. In fact, this notebook itself is really a document in JSON format which can be seen before processing by jupyter  from [here](https://raw.githubusercontent.com/restrepo/data-analysis/master/Pandas.ipynb).\n",
    "\n",
    "The dictionary can be converted into a string "
   ]
  },
  {
   "cell_type": "code",
   "execution_count": 104,
   "metadata": {},
   "outputs": [
    {
     "data": {
      "text/plain": [
       "\"{'odd': [1, 3, 5, 7, 9], 'even': [0, 2, 4, 6, 8]}\""
      ]
     },
     "execution_count": 104,
     "metadata": {},
     "output_type": "execute_result"
    }
   ],
   "source": [
    "str(numbers)"
   ]
  },
  {
   "cell_type": "markdown",
   "metadata": {},
   "source": [
    "This string can be writing in the `JSON` format by replacing the single quotes, ' , by  duoble quotes, \":"
   ]
  },
  {
   "cell_type": "code",
   "execution_count": 36,
   "metadata": {},
   "outputs": [
    {
     "data": {
      "text/plain": [
       "'{\"odd\": [1, 3, 5, 7, 9], \"even\": [0, 2, 4, 6, 8]}'"
      ]
     },
     "execution_count": 36,
     "metadata": {},
     "output_type": "execute_result"
    }
   ],
   "source": [
    "str(numbers).replace(\"'\",'\"')"
   ]
  },
  {
   "cell_type": "markdown",
   "metadata": {},
   "source": [
    "This can be read from PANDAS as 'JSON' object:"
   ]
  },
  {
   "cell_type": "code",
   "execution_count": 37,
   "metadata": {},
   "outputs": [
    {
     "data": {
      "text/html": [
       "<div>\n",
       "<table border=\"1\" class=\"dataframe\">\n",
       "  <thead>\n",
       "    <tr style=\"text-align: right;\">\n",
       "      <th></th>\n",
       "      <th>even</th>\n",
       "      <th>odd</th>\n",
       "    </tr>\n",
       "  </thead>\n",
       "  <tbody>\n",
       "    <tr>\n",
       "      <th>0</th>\n",
       "      <td>0</td>\n",
       "      <td>1</td>\n",
       "    </tr>\n",
       "    <tr>\n",
       "      <th>1</th>\n",
       "      <td>2</td>\n",
       "      <td>3</td>\n",
       "    </tr>\n",
       "    <tr>\n",
       "      <th>2</th>\n",
       "      <td>4</td>\n",
       "      <td>5</td>\n",
       "    </tr>\n",
       "    <tr>\n",
       "      <th>3</th>\n",
       "      <td>6</td>\n",
       "      <td>7</td>\n",
       "    </tr>\n",
       "    <tr>\n",
       "      <th>4</th>\n",
       "      <td>8</td>\n",
       "      <td>9</td>\n",
       "    </tr>\n",
       "  </tbody>\n",
       "</table>\n",
       "</div>"
      ],
      "text/plain": [
       "   even  odd\n",
       "0     0    1\n",
       "1     2    3\n",
       "2     4    5\n",
       "3     6    7\n",
       "4     8    9"
      ]
     },
     "execution_count": 37,
     "metadata": {},
     "output_type": "execute_result"
    }
   ],
   "source": [
    "pd.read_json(  str(numbers).replace(\"'\",'\"') )"
   ]
  },
  {
   "cell_type": "markdown",
   "metadata": {},
   "source": [
    "### JSON\n",
    "There are really three kinds of web\n",
    "* the normal web, \n",
    "* the deep web,\n",
    "* _the machine web_. The web for machine readable responses. It is served in `JSON` or `XML`  formats, which preserve programming objects.\n",
    "\n",
    "For example the crossref includes an API to give the metada of a DOI. An example of  link for the machine web is the one for the DOI: 10.1103/PhysRevD.95.095034\n",
    "\n",
    "[https://api.crossref.org/works/10.1103/PhysRevD.95.095034](https://api.crossref.org/works/10.1103/PhysRevD.95.095034)"
   ]
  },
  {
   "cell_type": "code",
   "execution_count": 138,
   "metadata": {
    "collapsed": true
   },
   "outputs": [],
   "source": [
    "doi=pd.read_json( 'https://api.crossref.org/works/10.1103/PhysRevD.95.095034' )"
   ]
  },
  {
   "cell_type": "code",
   "execution_count": 139,
   "metadata": {},
   "outputs": [
    {
     "data": {
      "text/html": [
       "<div>\n",
       "<table border=\"1\" class=\"dataframe\">\n",
       "  <thead>\n",
       "    <tr style=\"text-align: right;\">\n",
       "      <th></th>\n",
       "      <th>message</th>\n",
       "      <th>message-type</th>\n",
       "      <th>message-version</th>\n",
       "      <th>status</th>\n",
       "    </tr>\n",
       "  </thead>\n",
       "  <tbody>\n",
       "    <tr>\n",
       "      <th>DOI</th>\n",
       "      <td>10.1103/physrevd.95.095034</td>\n",
       "      <td>work</td>\n",
       "      <td>1.0.0</td>\n",
       "      <td>ok</td>\n",
       "    </tr>\n",
       "    <tr>\n",
       "      <th>ISSN</th>\n",
       "      <td>[2470-0010, 2470-0029]</td>\n",
       "      <td>work</td>\n",
       "      <td>1.0.0</td>\n",
       "      <td>ok</td>\n",
       "    </tr>\n",
       "    <tr>\n",
       "      <th>URL</th>\n",
       "      <td>http://dx.doi.org/10.1103/physrevd.95.095034</td>\n",
       "      <td>work</td>\n",
       "      <td>1.0.0</td>\n",
       "      <td>ok</td>\n",
       "    </tr>\n",
       "    <tr>\n",
       "      <th>article-number</th>\n",
       "      <td>095034</td>\n",
       "      <td>work</td>\n",
       "      <td>1.0.0</td>\n",
       "      <td>ok</td>\n",
       "    </tr>\n",
       "    <tr>\n",
       "      <th>author</th>\n",
       "      <td>[{'given': 'Carolina', 'family': 'Arbeláez', 'affiliation': []}, {'given': 'Martin', 'family': 'Hirsch', 'affiliation': []}, {'given': 'Diego', 'family': 'Restrepo', 'affiliation': []}]</td>\n",
       "      <td>work</td>\n",
       "      <td>1.0.0</td>\n",
       "      <td>ok</td>\n",
       "    </tr>\n",
       "    <tr>\n",
       "      <th>container-title</th>\n",
       "      <td>[Physical Review D]</td>\n",
       "      <td>work</td>\n",
       "      <td>1.0.0</td>\n",
       "      <td>ok</td>\n",
       "    </tr>\n",
       "    <tr>\n",
       "      <th>content-domain</th>\n",
       "      <td>{'crossmark-restriction': False, 'domain': []}</td>\n",
       "      <td>work</td>\n",
       "      <td>1.0.0</td>\n",
       "      <td>ok</td>\n",
       "    </tr>\n",
       "    <tr>\n",
       "      <th>created</th>\n",
       "      <td>{'timestamp': 1496282928000, 'date-time': '2017-06-01T02:08:48Z', 'date-parts': [[2017, 6, 1]]}</td>\n",
       "      <td>work</td>\n",
       "      <td>1.0.0</td>\n",
       "      <td>ok</td>\n",
       "    </tr>\n",
       "    <tr>\n",
       "      <th>deposited</th>\n",
       "      <td>{'timestamp': 1496283034000, 'date-time': '2017-06-01T02:10:34Z', 'date-parts': [[2017, 6, 1]]}</td>\n",
       "      <td>work</td>\n",
       "      <td>1.0.0</td>\n",
       "      <td>ok</td>\n",
       "    </tr>\n",
       "    <tr>\n",
       "      <th>funder</th>\n",
       "      <td>[{'award': ['FB0821', 'ACT1406'], 'DOI': '10.13039/501100002848', 'doi-asserted-by': 'publisher', 'name': 'Comisión Nacional de Investigación Científica y Tecnológica'}, {'award': ['111-565-842691...</td>\n",
       "      <td>work</td>\n",
       "      <td>1.0.0</td>\n",
       "      <td>ok</td>\n",
       "    </tr>\n",
       "    <tr>\n",
       "      <th>indexed</th>\n",
       "      <td>{'timestamp': 1521754947467, 'date-time': '2018-03-22T21:42:27Z', 'date-parts': [[2018, 3, 22]]}</td>\n",
       "      <td>work</td>\n",
       "      <td>1.0.0</td>\n",
       "      <td>ok</td>\n",
       "    </tr>\n",
       "    <tr>\n",
       "      <th>is-referenced-by-count</th>\n",
       "      <td>3</td>\n",
       "      <td>work</td>\n",
       "      <td>1.0.0</td>\n",
       "      <td>ok</td>\n",
       "    </tr>\n",
       "    <tr>\n",
       "      <th>issn-type</th>\n",
       "      <td>[{'value': '2470-0010', 'type': 'print'}, {'value': '2470-0029', 'type': 'electronic'}]</td>\n",
       "      <td>work</td>\n",
       "      <td>1.0.0</td>\n",
       "      <td>ok</td>\n",
       "    </tr>\n",
       "    <tr>\n",
       "      <th>issue</th>\n",
       "      <td>9</td>\n",
       "      <td>work</td>\n",
       "      <td>1.0.0</td>\n",
       "      <td>ok</td>\n",
       "    </tr>\n",
       "    <tr>\n",
       "      <th>issued</th>\n",
       "      <td>{'date-parts': [[2017, 5, 31]]}</td>\n",
       "      <td>work</td>\n",
       "      <td>1.0.0</td>\n",
       "      <td>ok</td>\n",
       "    </tr>\n",
       "    <tr>\n",
       "      <th>license</th>\n",
       "      <td>[{'start': {'timestamp': 1496188800000, 'date-time': '2017-05-31T00:00:00Z', 'date-parts': [[2017, 5, 31]]}, 'URL': 'http://link.aps.org/licenses/aps-default-license', 'content-version': 'vor', 'd...</td>\n",
       "      <td>work</td>\n",
       "      <td>1.0.0</td>\n",
       "      <td>ok</td>\n",
       "    </tr>\n",
       "    <tr>\n",
       "      <th>link</th>\n",
       "      <td>[{'intended-application': 'syndication', 'URL': 'http://link.aps.org/article/10.1103/PhysRevD.95.095034', 'content-version': 'vor', 'content-type': 'unspecified'}, {'intended-application': 'simila...</td>\n",
       "      <td>work</td>\n",
       "      <td>1.0.0</td>\n",
       "      <td>ok</td>\n",
       "    </tr>\n",
       "    <tr>\n",
       "      <th>member</th>\n",
       "      <td>16</td>\n",
       "      <td>work</td>\n",
       "      <td>1.0.0</td>\n",
       "      <td>ok</td>\n",
       "    </tr>\n",
       "    <tr>\n",
       "      <th>original-title</th>\n",
       "      <td>[]</td>\n",
       "      <td>work</td>\n",
       "      <td>1.0.0</td>\n",
       "      <td>ok</td>\n",
       "    </tr>\n",
       "    <tr>\n",
       "      <th>prefix</th>\n",
       "      <td>10.1103</td>\n",
       "      <td>work</td>\n",
       "      <td>1.0.0</td>\n",
       "      <td>ok</td>\n",
       "    </tr>\n",
       "    <tr>\n",
       "      <th>published-online</th>\n",
       "      <td>{'date-parts': [[2017, 5, 31]]}</td>\n",
       "      <td>work</td>\n",
       "      <td>1.0.0</td>\n",
       "      <td>ok</td>\n",
       "    </tr>\n",
       "    <tr>\n",
       "      <th>publisher</th>\n",
       "      <td>American Physical Society (APS)</td>\n",
       "      <td>work</td>\n",
       "      <td>1.0.0</td>\n",
       "      <td>ok</td>\n",
       "    </tr>\n",
       "    <tr>\n",
       "      <th>reference</th>\n",
       "      <td>[{'key': 'PhysRevD.95.095034Cc1R1', 'DOI': '10.1088/1475-7516/2013/01/022', 'doi-asserted-by': 'publisher'}, {'key': 'PhysRevD.95.095034Cc2R1', 'DOI': '10.1088/1475-7516/2012/04/010', 'doi-asserte...</td>\n",
       "      <td>work</td>\n",
       "      <td>1.0.0</td>\n",
       "      <td>ok</td>\n",
       "    </tr>\n",
       "    <tr>\n",
       "      <th>reference-count</th>\n",
       "      <td>46</td>\n",
       "      <td>work</td>\n",
       "      <td>1.0.0</td>\n",
       "      <td>ok</td>\n",
       "    </tr>\n",
       "    <tr>\n",
       "      <th>references-count</th>\n",
       "      <td>46</td>\n",
       "      <td>work</td>\n",
       "      <td>1.0.0</td>\n",
       "      <td>ok</td>\n",
       "    </tr>\n",
       "    <tr>\n",
       "      <th>relation</th>\n",
       "      <td>{'cites': []}</td>\n",
       "      <td>work</td>\n",
       "      <td>1.0.0</td>\n",
       "      <td>ok</td>\n",
       "    </tr>\n",
       "    <tr>\n",
       "      <th>score</th>\n",
       "      <td>1</td>\n",
       "      <td>work</td>\n",
       "      <td>1.0.0</td>\n",
       "      <td>ok</td>\n",
       "    </tr>\n",
       "    <tr>\n",
       "      <th>short-container-title</th>\n",
       "      <td>[Phys. Rev. D]</td>\n",
       "      <td>work</td>\n",
       "      <td>1.0.0</td>\n",
       "      <td>ok</td>\n",
       "    </tr>\n",
       "    <tr>\n",
       "      <th>short-title</th>\n",
       "      <td>[]</td>\n",
       "      <td>work</td>\n",
       "      <td>1.0.0</td>\n",
       "      <td>ok</td>\n",
       "    </tr>\n",
       "    <tr>\n",
       "      <th>source</th>\n",
       "      <td>Crossref</td>\n",
       "      <td>work</td>\n",
       "      <td>1.0.0</td>\n",
       "      <td>ok</td>\n",
       "    </tr>\n",
       "    <tr>\n",
       "      <th>subject</th>\n",
       "      <td>[Physics and Astronomy (miscellaneous)]</td>\n",
       "      <td>work</td>\n",
       "      <td>1.0.0</td>\n",
       "      <td>ok</td>\n",
       "    </tr>\n",
       "    <tr>\n",
       "      <th>subtitle</th>\n",
       "      <td>[]</td>\n",
       "      <td>work</td>\n",
       "      <td>1.0.0</td>\n",
       "      <td>ok</td>\n",
       "    </tr>\n",
       "    <tr>\n",
       "      <th>title</th>\n",
       "      <td>[Fermionic triplet dark matter in an \\nSO(10)\\n-inspired left-right model]</td>\n",
       "      <td>work</td>\n",
       "      <td>1.0.0</td>\n",
       "      <td>ok</td>\n",
       "    </tr>\n",
       "    <tr>\n",
       "      <th>type</th>\n",
       "      <td>journal-article</td>\n",
       "      <td>work</td>\n",
       "      <td>1.0.0</td>\n",
       "      <td>ok</td>\n",
       "    </tr>\n",
       "    <tr>\n",
       "      <th>volume</th>\n",
       "      <td>95</td>\n",
       "      <td>work</td>\n",
       "      <td>1.0.0</td>\n",
       "      <td>ok</td>\n",
       "    </tr>\n",
       "  </tbody>\n",
       "</table>\n",
       "</div>"
      ],
      "text/plain": [
       "                                                                                                                                                                                                                        message  \\\n",
       "DOI                                                                                                                                                                                                  10.1103/physrevd.95.095034   \n",
       "ISSN                                                                                                                                                                                                     [2470-0010, 2470-0029]   \n",
       "URL                                                                                                                                                                                http://dx.doi.org/10.1103/physrevd.95.095034   \n",
       "article-number                                                                                                                                                                                                           095034   \n",
       "author                                [{'given': 'Carolina', 'family': 'Arbeláez', 'affiliation': []}, {'given': 'Martin', 'family': 'Hirsch', 'affiliation': []}, {'given': 'Diego', 'family': 'Restrepo', 'affiliation': []}]   \n",
       "container-title                                                                                                                                                                                             [Physical Review D]   \n",
       "content-domain                                                                                                                                                                   {'crossmark-restriction': False, 'domain': []}   \n",
       "created                                                                                                                         {'timestamp': 1496282928000, 'date-time': '2017-06-01T02:08:48Z', 'date-parts': [[2017, 6, 1]]}   \n",
       "deposited                                                                                                                       {'timestamp': 1496283034000, 'date-time': '2017-06-01T02:10:34Z', 'date-parts': [[2017, 6, 1]]}   \n",
       "funder                  [{'award': ['FB0821', 'ACT1406'], 'DOI': '10.13039/501100002848', 'doi-asserted-by': 'publisher', 'name': 'Comisión Nacional de Investigación Científica y Tecnológica'}, {'award': ['111-565-842691...   \n",
       "indexed                                                                                                                        {'timestamp': 1521754947467, 'date-time': '2018-03-22T21:42:27Z', 'date-parts': [[2018, 3, 22]]}   \n",
       "is-referenced-by-count                                                                                                                                                                                                        3   \n",
       "issn-type                                                                                                                               [{'value': '2470-0010', 'type': 'print'}, {'value': '2470-0029', 'type': 'electronic'}]   \n",
       "issue                                                                                                                                                                                                                         9   \n",
       "issued                                                                                                                                                                                          {'date-parts': [[2017, 5, 31]]}   \n",
       "license                 [{'start': {'timestamp': 1496188800000, 'date-time': '2017-05-31T00:00:00Z', 'date-parts': [[2017, 5, 31]]}, 'URL': 'http://link.aps.org/licenses/aps-default-license', 'content-version': 'vor', 'd...   \n",
       "link                    [{'intended-application': 'syndication', 'URL': 'http://link.aps.org/article/10.1103/PhysRevD.95.095034', 'content-version': 'vor', 'content-type': 'unspecified'}, {'intended-application': 'simila...   \n",
       "member                                                                                                                                                                                                                       16   \n",
       "original-title                                                                                                                                                                                                               []   \n",
       "prefix                                                                                                                                                                                                                  10.1103   \n",
       "published-online                                                                                                                                                                                {'date-parts': [[2017, 5, 31]]}   \n",
       "publisher                                                                                                                                                                                       American Physical Society (APS)   \n",
       "reference               [{'key': 'PhysRevD.95.095034Cc1R1', 'DOI': '10.1088/1475-7516/2013/01/022', 'doi-asserted-by': 'publisher'}, {'key': 'PhysRevD.95.095034Cc2R1', 'DOI': '10.1088/1475-7516/2012/04/010', 'doi-asserte...   \n",
       "reference-count                                                                                                                                                                                                              46   \n",
       "references-count                                                                                                                                                                                                             46   \n",
       "relation                                                                                                                                                                                                          {'cites': []}   \n",
       "score                                                                                                                                                                                                                         1   \n",
       "short-container-title                                                                                                                                                                                            [Phys. Rev. D]   \n",
       "short-title                                                                                                                                                                                                                  []   \n",
       "source                                                                                                                                                                                                                 Crossref   \n",
       "subject                                                                                                                                                                                 [Physics and Astronomy (miscellaneous)]   \n",
       "subtitle                                                                                                                                                                                                                     []   \n",
       "title                                                                                                                                                [Fermionic triplet dark matter in an \\nSO(10)\\n-inspired left-right model]   \n",
       "type                                                                                                                                                                                                            journal-article   \n",
       "volume                                                                                                                                                                                                                       95   \n",
       "\n",
       "                       message-type message-version status  \n",
       "DOI                            work           1.0.0     ok  \n",
       "ISSN                           work           1.0.0     ok  \n",
       "URL                            work           1.0.0     ok  \n",
       "article-number                 work           1.0.0     ok  \n",
       "author                         work           1.0.0     ok  \n",
       "container-title                work           1.0.0     ok  \n",
       "content-domain                 work           1.0.0     ok  \n",
       "created                        work           1.0.0     ok  \n",
       "deposited                      work           1.0.0     ok  \n",
       "funder                         work           1.0.0     ok  \n",
       "indexed                        work           1.0.0     ok  \n",
       "is-referenced-by-count         work           1.0.0     ok  \n",
       "issn-type                      work           1.0.0     ok  \n",
       "issue                          work           1.0.0     ok  \n",
       "issued                         work           1.0.0     ok  \n",
       "license                        work           1.0.0     ok  \n",
       "link                           work           1.0.0     ok  \n",
       "member                         work           1.0.0     ok  \n",
       "original-title                 work           1.0.0     ok  \n",
       "prefix                         work           1.0.0     ok  \n",
       "published-online               work           1.0.0     ok  \n",
       "publisher                      work           1.0.0     ok  \n",
       "reference                      work           1.0.0     ok  \n",
       "reference-count                work           1.0.0     ok  \n",
       "references-count               work           1.0.0     ok  \n",
       "relation                       work           1.0.0     ok  \n",
       "score                          work           1.0.0     ok  \n",
       "short-container-title          work           1.0.0     ok  \n",
       "short-title                    work           1.0.0     ok  \n",
       "source                         work           1.0.0     ok  \n",
       "subject                        work           1.0.0     ok  \n",
       "subtitle                       work           1.0.0     ok  \n",
       "title                          work           1.0.0     ok  \n",
       "type                           work           1.0.0     ok  \n",
       "volume                         work           1.0.0     ok  "
      ]
     },
     "execution_count": 139,
     "metadata": {},
     "output_type": "execute_result"
    }
   ],
   "source": [
    "doi"
   ]
  },
  {
   "cell_type": "code",
   "execution_count": 140,
   "metadata": {},
   "outputs": [
    {
     "data": {
      "text/html": [
       "<div>\n",
       "<table border=\"1\" class=\"dataframe\">\n",
       "  <thead>\n",
       "    <tr style=\"text-align: right;\">\n",
       "      <th></th>\n",
       "      <th>message</th>\n",
       "      <th>message-type</th>\n",
       "      <th>message-version</th>\n",
       "      <th>status</th>\n",
       "    </tr>\n",
       "  </thead>\n",
       "  <tbody>\n",
       "    <tr>\n",
       "      <th>title</th>\n",
       "      <td>[Fermionic triplet dark matter in an \\nSO(10)\\n-inspired left-right model]</td>\n",
       "      <td>work</td>\n",
       "      <td>1.0.0</td>\n",
       "      <td>ok</td>\n",
       "    </tr>\n",
       "  </tbody>\n",
       "</table>\n",
       "</div>"
      ],
      "text/plain": [
       "                                                                          message  \\\n",
       "title  [Fermionic triplet dark matter in an \\nSO(10)\\n-inspired left-right model]   \n",
       "\n",
       "      message-type message-version status  \n",
       "title         work           1.0.0     ok  "
      ]
     },
     "execution_count": 140,
     "metadata": {},
     "output_type": "execute_result"
    }
   ],
   "source": [
    "doi.loc[['title']]"
   ]
  },
  {
   "cell_type": "code",
   "execution_count": 147,
   "metadata": {
    "scrolled": true
   },
   "outputs": [
    {
     "data": {
      "text/plain": [
       "[{'affiliation': [], 'family': 'Arbeláez', 'given': 'Carolina'},\n",
       " {'affiliation': [], 'family': 'Hirsch', 'given': 'Martin'},\n",
       " {'affiliation': [], 'family': 'Restrepo', 'given': 'Diego'}]"
      ]
     },
     "execution_count": 147,
     "metadata": {},
     "output_type": "execute_result"
    }
   ],
   "source": [
    "doi.loc[['author']]['message'].values[0]"
   ]
  },
  {
   "cell_type": "code",
   "execution_count": 149,
   "metadata": {},
   "outputs": [
    {
     "data": {
      "text/html": [
       "<div>\n",
       "<table border=\"1\" class=\"dataframe\">\n",
       "  <thead>\n",
       "    <tr style=\"text-align: right;\">\n",
       "      <th></th>\n",
       "      <th>given</th>\n",
       "      <th>family</th>\n",
       "    </tr>\n",
       "  </thead>\n",
       "  <tbody>\n",
       "    <tr>\n",
       "      <th>0</th>\n",
       "      <td>Carolina</td>\n",
       "      <td>Arbeláez</td>\n",
       "    </tr>\n",
       "    <tr>\n",
       "      <th>1</th>\n",
       "      <td>Martin</td>\n",
       "      <td>Hirsch</td>\n",
       "    </tr>\n",
       "    <tr>\n",
       "      <th>2</th>\n",
       "      <td>Diego</td>\n",
       "      <td>Restrepo</td>\n",
       "    </tr>\n",
       "  </tbody>\n",
       "</table>\n",
       "</div>"
      ],
      "text/plain": [
       "      given    family\n",
       "0  Carolina  Arbeláez\n",
       "1    Martin    Hirsch\n",
       "2     Diego  Restrepo"
      ]
     },
     "execution_count": 149,
     "metadata": {},
     "output_type": "execute_result"
    }
   ],
   "source": [
    "pd.DataFrame( doi.loc[['author']]['message'].values[0] )[['given','family']]"
   ]
  },
  {
   "cell_type": "code",
   "execution_count": 150,
   "metadata": {},
   "outputs": [
    {
     "data": {
      "text/html": [
       "<div>\n",
       "<table border=\"1\" class=\"dataframe\">\n",
       "  <thead>\n",
       "    <tr style=\"text-align: right;\">\n",
       "      <th></th>\n",
       "      <th>message</th>\n",
       "      <th>message-type</th>\n",
       "      <th>message-version</th>\n",
       "      <th>status</th>\n",
       "    </tr>\n",
       "  </thead>\n",
       "  <tbody>\n",
       "    <tr>\n",
       "      <th>reference</th>\n",
       "      <td>[{'key': 'PhysRevD.95.095034Cc1R1', 'DOI': '10.1088/1475-7516/2013/01/022', 'doi-asserted-by': 'publisher'}, {'key': 'PhysRevD.95.095034Cc2R1', 'DOI': '10.1088/1475-7516/2012/04/010', 'doi-asserte...</td>\n",
       "      <td>work</td>\n",
       "      <td>1.0.0</td>\n",
       "      <td>ok</td>\n",
       "    </tr>\n",
       "  </tbody>\n",
       "</table>\n",
       "</div>"
      ],
      "text/plain": [
       "                                                                                                                                                                                                           message  \\\n",
       "reference  [{'key': 'PhysRevD.95.095034Cc1R1', 'DOI': '10.1088/1475-7516/2013/01/022', 'doi-asserted-by': 'publisher'}, {'key': 'PhysRevD.95.095034Cc2R1', 'DOI': '10.1088/1475-7516/2012/04/010', 'doi-asserte...   \n",
       "\n",
       "          message-type message-version status  \n",
       "reference         work           1.0.0     ok  "
      ]
     },
     "execution_count": 150,
     "metadata": {},
     "output_type": "execute_result"
    }
   ],
   "source": [
    "doi.loc[['reference']]"
   ]
  },
  {
   "cell_type": "code",
   "execution_count": 151,
   "metadata": {
    "collapsed": true
   },
   "outputs": [],
   "source": [
    "doi.merge?"
   ]
  },
  {
   "cell_type": "code",
   "execution_count": 129,
   "metadata": {},
   "outputs": [
    {
     "data": {
      "text/html": [
       "<div>\n",
       "<table border=\"1\" class=\"dataframe\">\n",
       "  <thead>\n",
       "    <tr style=\"text-align: right;\">\n",
       "      <th></th>\n",
       "      <th>DOI</th>\n",
       "      <th>author</th>\n",
       "      <th>doi-asserted-by</th>\n",
       "      <th>key</th>\n",
       "      <th>volume-title</th>\n",
       "      <th>year</th>\n",
       "    </tr>\n",
       "  </thead>\n",
       "  <tbody>\n",
       "    <tr>\n",
       "      <th>0</th>\n",
       "      <td>10.1088/1475-7516/2013/01/022</td>\n",
       "      <td></td>\n",
       "      <td>publisher</td>\n",
       "      <td>PhysRevD.95.095034Cc1R1</td>\n",
       "      <td></td>\n",
       "      <td></td>\n",
       "    </tr>\n",
       "    <tr>\n",
       "      <th>1</th>\n",
       "      <td>10.1088/1475-7516/2012/04/010</td>\n",
       "      <td></td>\n",
       "      <td>publisher</td>\n",
       "      <td>PhysRevD.95.095034Cc2R1</td>\n",
       "      <td></td>\n",
       "      <td></td>\n",
       "    </tr>\n",
       "    <tr>\n",
       "      <th>2</th>\n",
       "      <td>10.1103/PhysRevD.82.116003</td>\n",
       "      <td></td>\n",
       "      <td>publisher</td>\n",
       "      <td>PhysRevD.95.095034Cc3R1</td>\n",
       "      <td></td>\n",
       "      <td></td>\n",
       "    </tr>\n",
       "    <tr>\n",
       "      <th>3</th>\n",
       "      <td>10.1007/JHEP05(2011)037</td>\n",
       "      <td></td>\n",
       "      <td>publisher</td>\n",
       "      <td>PhysRevD.95.095034Cc4R1</td>\n",
       "      <td></td>\n",
       "      <td></td>\n",
       "    </tr>\n",
       "    <tr>\n",
       "      <th>4</th>\n",
       "      <td>10.1103/PhysRevD.81.015002</td>\n",
       "      <td></td>\n",
       "      <td>publisher</td>\n",
       "      <td>PhysRevD.95.095034Cc5R1</td>\n",
       "      <td></td>\n",
       "      <td></td>\n",
       "    </tr>\n",
       "    <tr>\n",
       "      <th>5</th>\n",
       "      <td>10.1103/PhysRevD.80.085020</td>\n",
       "      <td></td>\n",
       "      <td>publisher</td>\n",
       "      <td>PhysRevD.95.095034Cc6R1</td>\n",
       "      <td></td>\n",
       "      <td></td>\n",
       "    </tr>\n",
       "    <tr>\n",
       "      <th>6</th>\n",
       "      <td>10.1103/PhysRevD.81.029903</td>\n",
       "      <td></td>\n",
       "      <td>publisher</td>\n",
       "      <td>PhysRevD.95.095034Cc6R2</td>\n",
       "      <td></td>\n",
       "      <td></td>\n",
       "    </tr>\n",
       "    <tr>\n",
       "      <th>7</th>\n",
       "      <td>10.1103/PhysRevD.81.075002</td>\n",
       "      <td></td>\n",
       "      <td>publisher</td>\n",
       "      <td>PhysRevD.95.095034Cc7R1</td>\n",
       "      <td></td>\n",
       "      <td></td>\n",
       "    </tr>\n",
       "    <tr>\n",
       "      <th>8</th>\n",
       "      <td>10.1103/PhysRevD.12.1502</td>\n",
       "      <td></td>\n",
       "      <td>publisher</td>\n",
       "      <td>PhysRevD.95.095034Cc8R1</td>\n",
       "      <td></td>\n",
       "      <td></td>\n",
       "    </tr>\n",
       "    <tr>\n",
       "      <th>9</th>\n",
       "      <td>10.1016/0370-2693(92)91077-M</td>\n",
       "      <td></td>\n",
       "      <td>publisher</td>\n",
       "      <td>PhysRevD.95.095034Cc9R1</td>\n",
       "      <td></td>\n",
       "      <td></td>\n",
       "    </tr>\n",
       "    <tr>\n",
       "      <th>10</th>\n",
       "      <td>10.1103/PhysRevD.89.035002</td>\n",
       "      <td></td>\n",
       "      <td>publisher</td>\n",
       "      <td>PhysRevD.95.095034Cc10R1</td>\n",
       "      <td></td>\n",
       "      <td></td>\n",
       "    </tr>\n",
       "    <tr>\n",
       "      <th>11</th>\n",
       "      <td>10.1103/PhysRevD.46.R2769</td>\n",
       "      <td></td>\n",
       "      <td>publisher</td>\n",
       "      <td>PhysRevD.95.095034Cc11R1</td>\n",
       "      <td></td>\n",
       "      <td></td>\n",
       "    </tr>\n",
       "    <tr>\n",
       "      <th>12</th>\n",
       "      <td>10.1103/PhysRevD.93.111703</td>\n",
       "      <td></td>\n",
       "      <td>publisher</td>\n",
       "      <td>PhysRevD.95.095034Cc12R1</td>\n",
       "      <td></td>\n",
       "      <td></td>\n",
       "    </tr>\n",
       "    <tr>\n",
       "      <th>13</th>\n",
       "      <td>10.1103/PhysRevLett.115.121804</td>\n",
       "      <td></td>\n",
       "      <td>publisher</td>\n",
       "      <td>PhysRevD.95.095034Cc13R1</td>\n",
       "      <td></td>\n",
       "      <td></td>\n",
       "    </tr>\n",
       "    <tr>\n",
       "      <th>14</th>\n",
       "      <td>10.1088/1475-7516/2016/03/021</td>\n",
       "      <td></td>\n",
       "      <td>publisher</td>\n",
       "      <td>PhysRevD.95.095034Cc15R1</td>\n",
       "      <td></td>\n",
       "      <td></td>\n",
       "    </tr>\n",
       "    <tr>\n",
       "      <th>15</th>\n",
       "      <td>10.1016/j.physletb.2016.02.008</td>\n",
       "      <td></td>\n",
       "      <td>publisher</td>\n",
       "      <td>PhysRevD.95.095034Cc16R1</td>\n",
       "      <td></td>\n",
       "      <td></td>\n",
       "    </tr>\n",
       "    <tr>\n",
       "      <th>16</th>\n",
       "      <td>10.1103/PhysRevD.93.013012</td>\n",
       "      <td></td>\n",
       "      <td>publisher</td>\n",
       "      <td>PhysRevD.95.095034Cc17R1</td>\n",
       "      <td></td>\n",
       "      <td></td>\n",
       "    </tr>\n",
       "    <tr>\n",
       "      <th>17</th>\n",
       "      <td>10.1088/1475-7516/2017/02/016</td>\n",
       "      <td></td>\n",
       "      <td>publisher</td>\n",
       "      <td>PhysRevD.95.095034Cc18R1</td>\n",
       "      <td></td>\n",
       "      <td></td>\n",
       "    </tr>\n",
       "    <tr>\n",
       "      <th>18</th>\n",
       "      <td>10.1016/j.physletb.2016.03.048</td>\n",
       "      <td></td>\n",
       "      <td>publisher</td>\n",
       "      <td>PhysRevD.95.095034Cc19R1</td>\n",
       "      <td></td>\n",
       "      <td></td>\n",
       "    </tr>\n",
       "    <tr>\n",
       "      <th>19</th>\n",
       "      <td>10.1103/PhysRevD.91.095010</td>\n",
       "      <td></td>\n",
       "      <td>publisher</td>\n",
       "      <td>PhysRevD.95.095034Cc20R1</td>\n",
       "      <td></td>\n",
       "      <td></td>\n",
       "    </tr>\n",
       "    <tr>\n",
       "      <th>20</th>\n",
       "      <td>10.1007/JHEP11(2016)077</td>\n",
       "      <td></td>\n",
       "      <td>publisher</td>\n",
       "      <td>PhysRevD.95.095034Cc21R1</td>\n",
       "      <td></td>\n",
       "      <td></td>\n",
       "    </tr>\n",
       "    <tr>\n",
       "      <th>21</th>\n",
       "      <td>10.1142/S0217732317400077</td>\n",
       "      <td></td>\n",
       "      <td>publisher</td>\n",
       "      <td>PhysRevD.95.095034Cc22R1</td>\n",
       "      <td></td>\n",
       "      <td></td>\n",
       "    </tr>\n",
       "    <tr>\n",
       "      <th>22</th>\n",
       "      <td>10.1088/1475-7516/2016/06/016</td>\n",
       "      <td></td>\n",
       "      <td>publisher</td>\n",
       "      <td>PhysRevD.95.095034Cc23R1</td>\n",
       "      <td></td>\n",
       "      <td></td>\n",
       "    </tr>\n",
       "    <tr>\n",
       "      <th>23</th>\n",
       "      <td>10.1103/PhysRevD.93.093001</td>\n",
       "      <td></td>\n",
       "      <td>publisher</td>\n",
       "      <td>PhysRevD.95.095034Cc24R1</td>\n",
       "      <td></td>\n",
       "      <td></td>\n",
       "    </tr>\n",
       "    <tr>\n",
       "      <th>24</th>\n",
       "      <td>10.1103/PhysRevD.93.055015</td>\n",
       "      <td></td>\n",
       "      <td>publisher</td>\n",
       "      <td>PhysRevD.95.095034Cc25R1</td>\n",
       "      <td></td>\n",
       "      <td></td>\n",
       "    </tr>\n",
       "    <tr>\n",
       "      <th>25</th>\n",
       "      <td>10.1103/PhysRevD.22.2227</td>\n",
       "      <td></td>\n",
       "      <td>publisher</td>\n",
       "      <td>PhysRevD.95.095034Cc26R1</td>\n",
       "      <td></td>\n",
       "      <td></td>\n",
       "    </tr>\n",
       "    <tr>\n",
       "      <th>26</th>\n",
       "      <td>10.1007/978-1-4757-1928-4</td>\n",
       "      <td>R. N. Mohapatra</td>\n",
       "      <td>crossref</td>\n",
       "      <td>PhysRevD.95.095034Cc27R1</td>\n",
       "      <td>Unification and Supersymmetry. The Frontiers of Quark-Lepton Physics</td>\n",
       "      <td>1986</td>\n",
       "    </tr>\n",
       "    <tr>\n",
       "      <th>27</th>\n",
       "      <td>10.1103/PhysRevD.84.053012</td>\n",
       "      <td></td>\n",
       "      <td>publisher</td>\n",
       "      <td>PhysRevD.95.095034Cc28R1</td>\n",
       "      <td></td>\n",
       "      <td></td>\n",
       "    </tr>\n",
       "    <tr>\n",
       "      <th>28</th>\n",
       "      <td>10.1103/PhysRevD.87.075010</td>\n",
       "      <td></td>\n",
       "      <td>publisher</td>\n",
       "      <td>PhysRevD.95.095034Cc29R1</td>\n",
       "      <td></td>\n",
       "      <td></td>\n",
       "    </tr>\n",
       "    <tr>\n",
       "      <th>29</th>\n",
       "      <td>10.1016/j.physrep.2007.02.010</td>\n",
       "      <td></td>\n",
       "      <td>publisher</td>\n",
       "      <td>PhysRevD.95.095034Cc30R1</td>\n",
       "      <td></td>\n",
       "      <td></td>\n",
       "    </tr>\n",
       "    <tr>\n",
       "      <th>30</th>\n",
       "      <td>10.1103/PhysRevLett.113.121802</td>\n",
       "      <td></td>\n",
       "      <td>publisher</td>\n",
       "      <td>PhysRevD.95.095034Cc31R1</td>\n",
       "      <td></td>\n",
       "      <td></td>\n",
       "    </tr>\n",
       "    <tr>\n",
       "      <th>31</th>\n",
       "      <td>10.1016/j.cpc.2010.11.030</td>\n",
       "      <td></td>\n",
       "      <td>publisher</td>\n",
       "      <td>PhysRevD.95.095034Cc32R1</td>\n",
       "      <td></td>\n",
       "      <td></td>\n",
       "    </tr>\n",
       "    <tr>\n",
       "      <th>32</th>\n",
       "      <td>10.1016/j.cpc.2010.01.011</td>\n",
       "      <td></td>\n",
       "      <td>publisher</td>\n",
       "      <td>PhysRevD.95.095034Cc34R1</td>\n",
       "      <td></td>\n",
       "      <td></td>\n",
       "    </tr>\n",
       "    <tr>\n",
       "      <th>33</th>\n",
       "      <td>10.1140/epjc/s10052-016-4349-5</td>\n",
       "      <td></td>\n",
       "      <td>publisher</td>\n",
       "      <td>PhysRevD.95.095034Cc35R1</td>\n",
       "      <td></td>\n",
       "      <td></td>\n",
       "    </tr>\n",
       "    <tr>\n",
       "      <th>34</th>\n",
       "      <td>10.1016/S0010-4655(03)00222-4</td>\n",
       "      <td></td>\n",
       "      <td>publisher</td>\n",
       "      <td>PhysRevD.95.095034Cc36R1</td>\n",
       "      <td></td>\n",
       "      <td></td>\n",
       "    </tr>\n",
       "    <tr>\n",
       "      <th>35</th>\n",
       "      <td>10.1016/j.cpc.2012.05.021</td>\n",
       "      <td></td>\n",
       "      <td>publisher</td>\n",
       "      <td>PhysRevD.95.095034Cc37R1</td>\n",
       "      <td></td>\n",
       "      <td></td>\n",
       "    </tr>\n",
       "    <tr>\n",
       "      <th>36</th>\n",
       "      <td>10.1016/j.cpc.2006.11.008</td>\n",
       "      <td></td>\n",
       "      <td>publisher</td>\n",
       "      <td>PhysRevD.95.095034Cc38R1</td>\n",
       "      <td></td>\n",
       "      <td></td>\n",
       "    </tr>\n",
       "    <tr>\n",
       "      <th>37</th>\n",
       "      <td>10.1016/j.cpc.2010.10.025</td>\n",
       "      <td></td>\n",
       "      <td>publisher</td>\n",
       "      <td>PhysRevD.95.095034Cc39R1</td>\n",
       "      <td></td>\n",
       "      <td></td>\n",
       "    </tr>\n",
       "    <tr>\n",
       "      <th>38</th>\n",
       "      <td>10.1016/j.cpc.2012.04.013</td>\n",
       "      <td></td>\n",
       "      <td>publisher</td>\n",
       "      <td>PhysRevD.95.095034Cc40R1</td>\n",
       "      <td></td>\n",
       "      <td></td>\n",
       "    </tr>\n",
       "    <tr>\n",
       "      <th>39</th>\n",
       "      <td>10.1051/0004-6361/201321591</td>\n",
       "      <td></td>\n",
       "      <td>publisher</td>\n",
       "      <td>PhysRevD.95.095034Cc41R1</td>\n",
       "      <td></td>\n",
       "      <td></td>\n",
       "    </tr>\n",
       "    <tr>\n",
       "      <th>40</th>\n",
       "      <td>10.1016/j.physletb.2017.02.010</td>\n",
       "      <td></td>\n",
       "      <td>publisher</td>\n",
       "      <td>PhysRevD.95.095034Cc42R1</td>\n",
       "      <td></td>\n",
       "      <td></td>\n",
       "    </tr>\n",
       "    <tr>\n",
       "      <th>41</th>\n",
       "      <td>10.1103/PhysRevLett.112.091303</td>\n",
       "      <td></td>\n",
       "      <td>publisher</td>\n",
       "      <td>PhysRevD.95.095034Cc43R1</td>\n",
       "      <td></td>\n",
       "      <td></td>\n",
       "    </tr>\n",
       "    <tr>\n",
       "      <th>42</th>\n",
       "      <td>10.1103/PhysRevLett.109.181301</td>\n",
       "      <td></td>\n",
       "      <td>publisher</td>\n",
       "      <td>PhysRevD.95.095034Cc44R1</td>\n",
       "      <td></td>\n",
       "      <td></td>\n",
       "    </tr>\n",
       "    <tr>\n",
       "      <th>43</th>\n",
       "      <td>10.1007/978-94-007-7241-0</td>\n",
       "      <td></td>\n",
       "      <td>publisher</td>\n",
       "      <td>PhysRevD.95.095034Cc45R1</td>\n",
       "      <td></td>\n",
       "      <td></td>\n",
       "    </tr>\n",
       "    <tr>\n",
       "      <th>44</th>\n",
       "      <td>10.1140/epjc/s10052-014-3149-z</td>\n",
       "      <td></td>\n",
       "      <td>publisher</td>\n",
       "      <td>PhysRevD.95.095034Cc46R1</td>\n",
       "      <td></td>\n",
       "      <td></td>\n",
       "    </tr>\n",
       "    <tr>\n",
       "      <th>45</th>\n",
       "      <td></td>\n",
       "      <td>T. Hambye</td>\n",
       "      <td></td>\n",
       "      <td>PhysRevD.95.095034Cc47R1</td>\n",
       "      <td>Proc. Sci.</td>\n",
       "      <td></td>\n",
       "    </tr>\n",
       "  </tbody>\n",
       "</table>\n",
       "</div>"
      ],
      "text/plain": [
       "                               DOI           author doi-asserted-by  \\\n",
       "0    10.1088/1475-7516/2013/01/022                        publisher   \n",
       "1    10.1088/1475-7516/2012/04/010                        publisher   \n",
       "2       10.1103/PhysRevD.82.116003                        publisher   \n",
       "3          10.1007/JHEP05(2011)037                        publisher   \n",
       "4       10.1103/PhysRevD.81.015002                        publisher   \n",
       "5       10.1103/PhysRevD.80.085020                        publisher   \n",
       "6       10.1103/PhysRevD.81.029903                        publisher   \n",
       "7       10.1103/PhysRevD.81.075002                        publisher   \n",
       "8         10.1103/PhysRevD.12.1502                        publisher   \n",
       "9     10.1016/0370-2693(92)91077-M                        publisher   \n",
       "10      10.1103/PhysRevD.89.035002                        publisher   \n",
       "11       10.1103/PhysRevD.46.R2769                        publisher   \n",
       "12      10.1103/PhysRevD.93.111703                        publisher   \n",
       "13  10.1103/PhysRevLett.115.121804                        publisher   \n",
       "14   10.1088/1475-7516/2016/03/021                        publisher   \n",
       "15  10.1016/j.physletb.2016.02.008                        publisher   \n",
       "16      10.1103/PhysRevD.93.013012                        publisher   \n",
       "17   10.1088/1475-7516/2017/02/016                        publisher   \n",
       "18  10.1016/j.physletb.2016.03.048                        publisher   \n",
       "19      10.1103/PhysRevD.91.095010                        publisher   \n",
       "20         10.1007/JHEP11(2016)077                        publisher   \n",
       "21       10.1142/S0217732317400077                        publisher   \n",
       "22   10.1088/1475-7516/2016/06/016                        publisher   \n",
       "23      10.1103/PhysRevD.93.093001                        publisher   \n",
       "24      10.1103/PhysRevD.93.055015                        publisher   \n",
       "25        10.1103/PhysRevD.22.2227                        publisher   \n",
       "26       10.1007/978-1-4757-1928-4  R. N. Mohapatra        crossref   \n",
       "27      10.1103/PhysRevD.84.053012                        publisher   \n",
       "28      10.1103/PhysRevD.87.075010                        publisher   \n",
       "29   10.1016/j.physrep.2007.02.010                        publisher   \n",
       "30  10.1103/PhysRevLett.113.121802                        publisher   \n",
       "31       10.1016/j.cpc.2010.11.030                        publisher   \n",
       "32       10.1016/j.cpc.2010.01.011                        publisher   \n",
       "33  10.1140/epjc/s10052-016-4349-5                        publisher   \n",
       "34   10.1016/S0010-4655(03)00222-4                        publisher   \n",
       "35       10.1016/j.cpc.2012.05.021                        publisher   \n",
       "36       10.1016/j.cpc.2006.11.008                        publisher   \n",
       "37       10.1016/j.cpc.2010.10.025                        publisher   \n",
       "38       10.1016/j.cpc.2012.04.013                        publisher   \n",
       "39     10.1051/0004-6361/201321591                        publisher   \n",
       "40  10.1016/j.physletb.2017.02.010                        publisher   \n",
       "41  10.1103/PhysRevLett.112.091303                        publisher   \n",
       "42  10.1103/PhysRevLett.109.181301                        publisher   \n",
       "43       10.1007/978-94-007-7241-0                        publisher   \n",
       "44  10.1140/epjc/s10052-014-3149-z                        publisher   \n",
       "45                                        T. Hambye                   \n",
       "\n",
       "                         key  \\\n",
       "0    PhysRevD.95.095034Cc1R1   \n",
       "1    PhysRevD.95.095034Cc2R1   \n",
       "2    PhysRevD.95.095034Cc3R1   \n",
       "3    PhysRevD.95.095034Cc4R1   \n",
       "4    PhysRevD.95.095034Cc5R1   \n",
       "5    PhysRevD.95.095034Cc6R1   \n",
       "6    PhysRevD.95.095034Cc6R2   \n",
       "7    PhysRevD.95.095034Cc7R1   \n",
       "8    PhysRevD.95.095034Cc8R1   \n",
       "9    PhysRevD.95.095034Cc9R1   \n",
       "10  PhysRevD.95.095034Cc10R1   \n",
       "11  PhysRevD.95.095034Cc11R1   \n",
       "12  PhysRevD.95.095034Cc12R1   \n",
       "13  PhysRevD.95.095034Cc13R1   \n",
       "14  PhysRevD.95.095034Cc15R1   \n",
       "15  PhysRevD.95.095034Cc16R1   \n",
       "16  PhysRevD.95.095034Cc17R1   \n",
       "17  PhysRevD.95.095034Cc18R1   \n",
       "18  PhysRevD.95.095034Cc19R1   \n",
       "19  PhysRevD.95.095034Cc20R1   \n",
       "20  PhysRevD.95.095034Cc21R1   \n",
       "21  PhysRevD.95.095034Cc22R1   \n",
       "22  PhysRevD.95.095034Cc23R1   \n",
       "23  PhysRevD.95.095034Cc24R1   \n",
       "24  PhysRevD.95.095034Cc25R1   \n",
       "25  PhysRevD.95.095034Cc26R1   \n",
       "26  PhysRevD.95.095034Cc27R1   \n",
       "27  PhysRevD.95.095034Cc28R1   \n",
       "28  PhysRevD.95.095034Cc29R1   \n",
       "29  PhysRevD.95.095034Cc30R1   \n",
       "30  PhysRevD.95.095034Cc31R1   \n",
       "31  PhysRevD.95.095034Cc32R1   \n",
       "32  PhysRevD.95.095034Cc34R1   \n",
       "33  PhysRevD.95.095034Cc35R1   \n",
       "34  PhysRevD.95.095034Cc36R1   \n",
       "35  PhysRevD.95.095034Cc37R1   \n",
       "36  PhysRevD.95.095034Cc38R1   \n",
       "37  PhysRevD.95.095034Cc39R1   \n",
       "38  PhysRevD.95.095034Cc40R1   \n",
       "39  PhysRevD.95.095034Cc41R1   \n",
       "40  PhysRevD.95.095034Cc42R1   \n",
       "41  PhysRevD.95.095034Cc43R1   \n",
       "42  PhysRevD.95.095034Cc44R1   \n",
       "43  PhysRevD.95.095034Cc45R1   \n",
       "44  PhysRevD.95.095034Cc46R1   \n",
       "45  PhysRevD.95.095034Cc47R1   \n",
       "\n",
       "                                                            volume-title  year  \n",
       "0                                                                               \n",
       "1                                                                               \n",
       "2                                                                               \n",
       "3                                                                               \n",
       "4                                                                               \n",
       "5                                                                               \n",
       "6                                                                               \n",
       "7                                                                               \n",
       "8                                                                               \n",
       "9                                                                               \n",
       "10                                                                              \n",
       "11                                                                              \n",
       "12                                                                              \n",
       "13                                                                              \n",
       "14                                                                              \n",
       "15                                                                              \n",
       "16                                                                              \n",
       "17                                                                              \n",
       "18                                                                              \n",
       "19                                                                              \n",
       "20                                                                              \n",
       "21                                                                              \n",
       "22                                                                              \n",
       "23                                                                              \n",
       "24                                                                              \n",
       "25                                                                              \n",
       "26  Unification and Supersymmetry. The Frontiers of Quark-Lepton Physics  1986  \n",
       "27                                                                              \n",
       "28                                                                              \n",
       "29                                                                              \n",
       "30                                                                              \n",
       "31                                                                              \n",
       "32                                                                              \n",
       "33                                                                              \n",
       "34                                                                              \n",
       "35                                                                              \n",
       "36                                                                              \n",
       "37                                                                              \n",
       "38                                                                              \n",
       "39                                                                              \n",
       "40                                                                              \n",
       "41                                                                              \n",
       "42                                                                              \n",
       "43                                                                              \n",
       "44                                                                              \n",
       "45                                                            Proc. Sci.        "
      ]
     },
     "execution_count": 129,
     "metadata": {},
     "output_type": "execute_result"
    }
   ],
   "source": [
    "pd.DataFrame( doi.loc[['reference']]['message'].values[0]  ).fillna('')"
   ]
  },
  {
   "cell_type": "markdown",
   "metadata": {},
   "source": [
    "## Google search\n",
    "By following the instructions from [here](https://stackoverflow.com/a/46374861/2268280)"
   ]
  },
  {
   "cell_type": "code",
   "execution_count": 176,
   "metadata": {
    "collapsed": true
   },
   "outputs": [],
   "source": [
    "import requests \n",
    "from bs4 import BeautifulSoup\n",
    "\n",
    "headers_Get = {\n",
    "        'User-Agent': 'Mozilla/5.0 (Windows NT 6.1; WOW64; rv:49.0) Gecko/20100101 Firefox/49.0',\n",
    "        'Accept': 'text/html,application/xhtml+xml,application/xml;q=0.9,*/*;q=0.8',\n",
    "        'Accept-Language': 'en-US,en;q=0.5',\n",
    "        'Accept-Encoding': 'gzip, deflate',\n",
    "        'DNT': '1',\n",
    "        'Connection': 'keep-alive',\n",
    "        'Upgrade-Insecure-Requests': '1'\n",
    "    }\n",
    "\n",
    "\n",
    "def google(q):\n",
    "    s = requests.Session()\n",
    "    q = '+'.join(q.split())\n",
    "    url = 'https://www.google.com/search?q=' + q + '&ie=utf-8&oe=utf-8'\n",
    "    r = s.get(url, headers=headers_Get)\n",
    "\n",
    "    soup = BeautifulSoup(r.text, \"html.parser\")\n",
    "    output = []\n",
    "    for searchWrapper in soup.find_all('h3', {'class':'r'}): #this line may change in future based on google's web page structure\n",
    "        url = searchWrapper.find('a')[\"href\"] \n",
    "        text = searchWrapper.find('a').text.strip()\n",
    "        result = {'text': text, 'url': url}\n",
    "        output.append(result)\n",
    "\n",
    "    return output"
   ]
  },
  {
   "cell_type": "code",
   "execution_count": 180,
   "metadata": {},
   "outputs": [
    {
     "data": {
      "text/html": [
       "<div>\n",
       "<table border=\"1\" class=\"dataframe\">\n",
       "  <thead>\n",
       "    <tr style=\"text-align: right;\">\n",
       "      <th></th>\n",
       "      <th>text</th>\n",
       "      <th>url</th>\n",
       "    </tr>\n",
       "  </thead>\n",
       "  <tbody>\n",
       "    <tr>\n",
       "      <th>0</th>\n",
       "      <td>Albert Einstein - Google Scholar Citations</td>\n",
       "      <td>http://scholar.google.com/citations?user=qc6CJjYAAAAJ&amp;hl=es</td>\n",
       "    </tr>\n",
       "    <tr>\n",
       "      <th>1</th>\n",
       "      <td>Albert Einstein - Google Scholar Citations</td>\n",
       "      <td>http://scholar.google.com/citations?user=wID1_xkAAAAJ&amp;hl=en</td>\n",
       "    </tr>\n",
       "    <tr>\n",
       "      <th>2</th>\n",
       "      <td>Albert Einstein - Citas de Google Académico</td>\n",
       "      <td>http://scholar.google.es/citations?user=3bCfWEAAAAAJ&amp;hl=es</td>\n",
       "    </tr>\n",
       "    <tr>\n",
       "      <th>3</th>\n",
       "      <td>Who sets up the Google Scholar Citation profiles for Albert ...</td>\n",
       "      <td>https://www.quora.com/Who-sets-up-the-Google-Scholar-Citation-profiles-for-Albert-Einstein-and-Richard-Feynman</td>\n",
       "    </tr>\n",
       "    <tr>\n",
       "      <th>4</th>\n",
       "      <td>Home - Google Scholar - LibGuides at Albert Einstein College of ...</td>\n",
       "      <td>http://libguides.einstein.yu.edu/googlescholar</td>\n",
       "    </tr>\n",
       "    <tr>\n",
       "      <th>5</th>\n",
       "      <td>2610 Highly Cited Researchers (h&gt;100) according to their Google ...</td>\n",
       "      <td>http://www.webometrics.info/es/node/58</td>\n",
       "    </tr>\n",
       "    <tr>\n",
       "      <th>6</th>\n",
       "      <td>7 ways to make your Google Scholar Profile better - Impactstory blog</td>\n",
       "      <td>http://blog.impactstory.org/make-google-scholar-better/</td>\n",
       "    </tr>\n",
       "    <tr>\n",
       "      <th>7</th>\n",
       "      <td>Michel Ballings on Twitter: \"Albert Einstein's Google Scholar Citations ...</td>\n",
       "      <td>https://twitter.com/michelballings/status/279895383663075329</td>\n",
       "    </tr>\n",
       "    <tr>\n",
       "      <th>8</th>\n",
       "      <td>Google Scholar Citations | theoretical ecology</td>\n",
       "      <td>https://theoreticalecology.wordpress.com/2011/11/17/google-scholar-citations/</td>\n",
       "    </tr>\n",
       "    <tr>\n",
       "      <th>9</th>\n",
       "      <td>H-indices and how academic publishing has changed: Feynman and ...</td>\n",
       "      <td>https://computinged.wordpress.com/2011/08/04/h-indices-and-how-academic-publishing-has-changed-feynman-and-einstein-just-arent-that-impressive-anymore/</td>\n",
       "    </tr>\n",
       "  </tbody>\n",
       "</table>\n",
       "</div>"
      ],
      "text/plain": [
       "                                                                          text  \\\n",
       "0                                   Albert Einstein - Google Scholar Citations   \n",
       "1                                   Albert Einstein - Google Scholar Citations   \n",
       "2                                  Albert Einstein - Citas de Google Académico   \n",
       "3              Who sets up the Google Scholar Citation profiles for Albert ...   \n",
       "4          Home - Google Scholar - LibGuides at Albert Einstein College of ...   \n",
       "5          2610 Highly Cited Researchers (h>100) according to their Google ...   \n",
       "6         7 ways to make your Google Scholar Profile better - Impactstory blog   \n",
       "7  Michel Ballings on Twitter: \"Albert Einstein's Google Scholar Citations ...   \n",
       "8                               Google Scholar Citations | theoretical ecology   \n",
       "9           H-indices and how academic publishing has changed: Feynman and ...   \n",
       "\n",
       "                                                                                                                                                       url  \n",
       "0                                                                                              http://scholar.google.com/citations?user=qc6CJjYAAAAJ&hl=es  \n",
       "1                                                                                              http://scholar.google.com/citations?user=wID1_xkAAAAJ&hl=en  \n",
       "2                                                                                               http://scholar.google.es/citations?user=3bCfWEAAAAAJ&hl=es  \n",
       "3                                           https://www.quora.com/Who-sets-up-the-Google-Scholar-Citation-profiles-for-Albert-Einstein-and-Richard-Feynman  \n",
       "4                                                                                                           http://libguides.einstein.yu.edu/googlescholar  \n",
       "5                                                                                                                   http://www.webometrics.info/es/node/58  \n",
       "6                                                                                                  http://blog.impactstory.org/make-google-scholar-better/  \n",
       "7                                                                                             https://twitter.com/michelballings/status/279895383663075329  \n",
       "8                                                                            https://theoreticalecology.wordpress.com/2011/11/17/google-scholar-citations/  \n",
       "9  https://computinged.wordpress.com/2011/08/04/h-indices-and-how-academic-publishing-has-changed-feynman-and-einstein-just-arent-that-impressive-anymore/  "
      ]
     },
     "execution_count": 180,
     "metadata": {},
     "output_type": "execute_result"
    }
   ],
   "source": [
    "rdf=pd.DataFrame( google('albert einstein google scholar') )\n",
    "rdf"
   ]
  },
  {
   "cell_type": "markdown",
   "metadata": {},
   "source": [
    "## Conclusion\n",
    "In an ideal world we would have access to the metadata of the all research articles, in an automated machine readable way.\n",
    "\n",
    "In [crossref](crossref.ipynb) we show that it is not the case for Redalyc journals.\n",
    "\n",
    "The references listed below allows to create [Networks](Network.ipynb) of articles, provided that they are well _normalized_.\n",
    "\n",
    "A real case scenario of obtain the metadata of _many_ research articles including references  is by means of the use of the  [Inspire HEP](inspire.ipynb), the information system for  High Energy Physics.\n",
    "\n",
    "Example of [advanced use](rg.ipynb)"
   ]
  },
  {
   "cell_type": "code",
   "execution_count": null,
   "metadata": {
    "collapsed": true
   },
   "outputs": [],
   "source": []
  },
  {
   "cell_type": "markdown",
   "metadata": {
    "collapsed": true
   },
   "source": [
    "##  ACTIVITIES\n",
    "See:\n",
    "* https://github.com/ajcr/100-pandas-puzzles\n",
    "* https://github.com/guipsamora/pandas_exercises"
   ]
  },
  {
   "cell_type": "markdown",
   "metadata": {
    "collapsed": true
   },
   "source": [
    "## Additional materials\n",
    "See [this online course](https://www.datacamp.com/community/tutorials/pandas-tutorial-dataframe-python)\n",
    "\n",
    "See [this help](https://restrepo.github.io/PythonTipsAndTricks/)\n",
    "\n",
    "A good and practice book about `Pandas` possibilities is:\n",
    "\n",
    "[__Python for Data Analysis__](https://drive.google.com/open?id=0BxoOXsn2EUNIWExXbVc4SDN0YTQ)<br/>\n",
    "Data Wrangling with Pandas, NumPy, and IPython<br/>\n",
    "_By William McKinney_\n",
    "\n",
    "\n",
    "This other is about aplications based on `Pandas`:\n",
    "<div style=\"float: right;\" markdown=\"1\">\n",
    "    <img src=\"https://covers.oreillystatic.com/images/0636920030515/cat.gif\">\n",
    "</div>\n",
    "[Introduction to Machine Learning with Python](https://drive.google.com/open?id=0BxoOXsn2EUNISGhrdEZ3S29fS3M)<br/>\n",
    "A Guide for Data Scientists\n",
    "By Sarah Guido, Andreas Müller\n",
    "\n",
    "`Pandas` can be used in a similar way to `R`, which is based on similar data structures. `Pandas` also can replace the use of graphical interfaces to access spreadsheets like Excel"
   ]
  },
  {
   "cell_type": "markdown",
   "metadata": {},
   "source": [
    "Continue with [Network tutorial](./Network_Tutorial.ipynb)"
   ]
  },
  {
   "cell_type": "code",
   "execution_count": null,
   "metadata": {
    "collapsed": true
   },
   "outputs": [],
   "source": []
  }
 ],
 "metadata": {
  "kernelspec": {
   "display_name": "Python 3",
   "language": "python",
   "name": "python3"
  },
  "language_info": {
   "codemirror_mode": {
    "name": "ipython",
    "version": 3
   },
   "file_extension": ".py",
   "mimetype": "text/x-python",
   "name": "python",
   "nbconvert_exporter": "python",
   "pygments_lexer": "ipython3",
   "version": "3.4.2"
  },
  "toc": {
   "colors": {
    "hover_highlight": "#DAA520",
    "running_highlight": "#FF0000",
    "selected_highlight": "#FFD700"
   },
   "moveMenuLeft": true,
   "nav_menu": {},
   "navigate_menu": true,
   "number_sections": true,
   "sideBar": true,
   "threshold": 4,
   "toc_cell": false,
   "toc_section_display": "block",
   "toc_window_display": false
  }
 },
 "nbformat": 4,
 "nbformat_minor": 2
}
